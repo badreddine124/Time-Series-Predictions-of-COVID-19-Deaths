{
 "cells": [
  {
   "cell_type": "markdown",
   "metadata": {},
   "source": [
    "   # Comparing time series predictions of COVID-19 deaths"
   ]
  },
  {
   "cell_type": "markdown",
   "metadata": {},
   "source": [
    "## 1. Importing Packages"
   ]
  },
  {
   "cell_type": "code",
   "execution_count": 12,
   "metadata": {},
   "outputs": [],
   "source": [
    "import pmdarima as pm\n",
    "from statsmodels.tsa.seasonal import seasonal_decompose\n",
    "from sklearn.model_selection import TimeSeriesSplit\n",
    "\n",
    "import pandas as pd\n",
    "import numpy as np\n",
    "import datetime\n",
    "import requests\n",
    "import warnings\n",
    "\n",
    "import matplotlib.pyplot as plt\n",
    "import matplotlib\n",
    "import matplotlib.dates as mdates\n",
    "\n",
    "from xgboost import XGBRegressor\n",
    "from sklearn.ensemble import RandomForestRegressor\n",
    "from sklearn.metrics import mean_squared_error, mean_absolute_error\n",
    "from sklearn.preprocessing import OrdinalEncoder\n",
    "from sklearn.svm import SVR\n",
    "from sklearn.model_selection import train_test_split\n",
    "from statsmodels.tsa.statespace.sarimax import SARIMAX\n",
    "from statsmodels.tsa.arima_model import ARIMA\n",
    "from sklearn.preprocessing import StandardScaler\n",
    "\n",
    "from fbprophet import Prophet\n",
    "from fbprophet.plot import plot_plotly, add_changepoints_to_plot\n",
    "from keras.models import Sequential\n",
    "from tensorflow.keras.layers import Dense\n",
    "\n",
    "from tensorflow.keras.optimizers import Adam\n",
    "\n",
    "warnings.filterwarnings('ignore')\n"
   ]
  },
  {
   "cell_type": "markdown",
   "metadata": {},
   "source": [
    "## 2. Loading the data and preparing the dataset data frame"
   ]
  },
  {
   "cell_type": "code",
   "execution_count": 94,
   "metadata": {},
   "outputs": [
    {
     "data": {
      "text/html": [
       "<div>\n",
       "<style scoped>\n",
       "    .dataframe tbody tr th:only-of-type {\n",
       "        vertical-align: middle;\n",
       "    }\n",
       "\n",
       "    .dataframe tbody tr th {\n",
       "        vertical-align: top;\n",
       "    }\n",
       "\n",
       "    .dataframe thead th {\n",
       "        text-align: right;\n",
       "    }\n",
       "</style>\n",
       "<table border=\"1\" class=\"dataframe\">\n",
       "  <thead>\n",
       "    <tr style=\"text-align: right;\">\n",
       "      <th></th>\n",
       "      <th>Province/State</th>\n",
       "      <th>Country/Region</th>\n",
       "      <th>Lat</th>\n",
       "      <th>Long</th>\n",
       "      <th>1/22/20</th>\n",
       "      <th>1/23/20</th>\n",
       "      <th>1/24/20</th>\n",
       "      <th>1/25/20</th>\n",
       "      <th>1/26/20</th>\n",
       "      <th>1/27/20</th>\n",
       "      <th>...</th>\n",
       "      <th>8/7/20</th>\n",
       "      <th>8/8/20</th>\n",
       "      <th>8/9/20</th>\n",
       "      <th>8/10/20</th>\n",
       "      <th>8/11/20</th>\n",
       "      <th>8/12/20</th>\n",
       "      <th>8/13/20</th>\n",
       "      <th>8/14/20</th>\n",
       "      <th>8/15/20</th>\n",
       "      <th>8/16/20</th>\n",
       "    </tr>\n",
       "  </thead>\n",
       "  <tbody>\n",
       "    <tr>\n",
       "      <th>0</th>\n",
       "      <td>NaN</td>\n",
       "      <td>Afghanistan</td>\n",
       "      <td>33.93911</td>\n",
       "      <td>67.709953</td>\n",
       "      <td>0</td>\n",
       "      <td>0</td>\n",
       "      <td>0</td>\n",
       "      <td>0</td>\n",
       "      <td>0</td>\n",
       "      <td>0</td>\n",
       "      <td>...</td>\n",
       "      <td>1307</td>\n",
       "      <td>1312</td>\n",
       "      <td>1312</td>\n",
       "      <td>1328</td>\n",
       "      <td>1344</td>\n",
       "      <td>1354</td>\n",
       "      <td>1363</td>\n",
       "      <td>1363</td>\n",
       "      <td>1370</td>\n",
       "      <td>1375</td>\n",
       "    </tr>\n",
       "    <tr>\n",
       "      <th>1</th>\n",
       "      <td>NaN</td>\n",
       "      <td>Albania</td>\n",
       "      <td>41.15330</td>\n",
       "      <td>20.168300</td>\n",
       "      <td>0</td>\n",
       "      <td>0</td>\n",
       "      <td>0</td>\n",
       "      <td>0</td>\n",
       "      <td>0</td>\n",
       "      <td>0</td>\n",
       "      <td>...</td>\n",
       "      <td>189</td>\n",
       "      <td>193</td>\n",
       "      <td>199</td>\n",
       "      <td>200</td>\n",
       "      <td>205</td>\n",
       "      <td>208</td>\n",
       "      <td>213</td>\n",
       "      <td>219</td>\n",
       "      <td>225</td>\n",
       "      <td>228</td>\n",
       "    </tr>\n",
       "    <tr>\n",
       "      <th>2</th>\n",
       "      <td>NaN</td>\n",
       "      <td>Algeria</td>\n",
       "      <td>28.03390</td>\n",
       "      <td>1.659600</td>\n",
       "      <td>0</td>\n",
       "      <td>0</td>\n",
       "      <td>0</td>\n",
       "      <td>0</td>\n",
       "      <td>0</td>\n",
       "      <td>0</td>\n",
       "      <td>...</td>\n",
       "      <td>1282</td>\n",
       "      <td>1293</td>\n",
       "      <td>1302</td>\n",
       "      <td>1312</td>\n",
       "      <td>1322</td>\n",
       "      <td>1333</td>\n",
       "      <td>1341</td>\n",
       "      <td>1351</td>\n",
       "      <td>1360</td>\n",
       "      <td>1370</td>\n",
       "    </tr>\n",
       "    <tr>\n",
       "      <th>3</th>\n",
       "      <td>NaN</td>\n",
       "      <td>Andorra</td>\n",
       "      <td>42.50630</td>\n",
       "      <td>1.521800</td>\n",
       "      <td>0</td>\n",
       "      <td>0</td>\n",
       "      <td>0</td>\n",
       "      <td>0</td>\n",
       "      <td>0</td>\n",
       "      <td>0</td>\n",
       "      <td>...</td>\n",
       "      <td>52</td>\n",
       "      <td>52</td>\n",
       "      <td>52</td>\n",
       "      <td>52</td>\n",
       "      <td>52</td>\n",
       "      <td>53</td>\n",
       "      <td>53</td>\n",
       "      <td>53</td>\n",
       "      <td>53</td>\n",
       "      <td>53</td>\n",
       "    </tr>\n",
       "    <tr>\n",
       "      <th>4</th>\n",
       "      <td>NaN</td>\n",
       "      <td>Angola</td>\n",
       "      <td>-11.20270</td>\n",
       "      <td>17.873900</td>\n",
       "      <td>0</td>\n",
       "      <td>0</td>\n",
       "      <td>0</td>\n",
       "      <td>0</td>\n",
       "      <td>0</td>\n",
       "      <td>0</td>\n",
       "      <td>...</td>\n",
       "      <td>67</td>\n",
       "      <td>70</td>\n",
       "      <td>75</td>\n",
       "      <td>78</td>\n",
       "      <td>80</td>\n",
       "      <td>80</td>\n",
       "      <td>80</td>\n",
       "      <td>86</td>\n",
       "      <td>86</td>\n",
       "      <td>88</td>\n",
       "    </tr>\n",
       "  </tbody>\n",
       "</table>\n",
       "<p>5 rows × 212 columns</p>\n",
       "</div>"
      ],
      "text/plain": [
       "  Province/State Country/Region       Lat       Long  1/22/20  1/23/20  \\\n",
       "0            NaN    Afghanistan  33.93911  67.709953        0        0   \n",
       "1            NaN        Albania  41.15330  20.168300        0        0   \n",
       "2            NaN        Algeria  28.03390   1.659600        0        0   \n",
       "3            NaN        Andorra  42.50630   1.521800        0        0   \n",
       "4            NaN         Angola -11.20270  17.873900        0        0   \n",
       "\n",
       "   1/24/20  1/25/20  1/26/20  1/27/20  ...  8/7/20  8/8/20  8/9/20  8/10/20  \\\n",
       "0        0        0        0        0  ...    1307    1312    1312     1328   \n",
       "1        0        0        0        0  ...     189     193     199      200   \n",
       "2        0        0        0        0  ...    1282    1293    1302     1312   \n",
       "3        0        0        0        0  ...      52      52      52       52   \n",
       "4        0        0        0        0  ...      67      70      75       78   \n",
       "\n",
       "   8/11/20  8/12/20  8/13/20  8/14/20  8/15/20  8/16/20  \n",
       "0     1344     1354     1363     1363     1370     1375  \n",
       "1      205      208      213      219      225      228  \n",
       "2     1322     1333     1341     1351     1360     1370  \n",
       "3       52       53       53       53       53       53  \n",
       "4       80       80       80       86       86       88  \n",
       "\n",
       "[5 rows x 212 columns]"
      ]
     },
     "execution_count": 94,
     "metadata": {},
     "output_type": "execute_result"
    }
   ],
   "source": [
    "deaths_df = pd.read_csv(\"time_series_covid19_deaths_global.csv\")\n",
    "deaths_df.head()"
   ]
  },
  {
   "cell_type": "code",
   "execution_count": 15,
   "metadata": {},
   "outputs": [
    {
     "data": {
      "text/plain": [
       "(266, 212)"
      ]
     },
     "execution_count": 15,
     "metadata": {},
     "output_type": "execute_result"
    }
   ],
   "source": [
    "deaths_df.shape"
   ]
  },
  {
   "cell_type": "markdown",
   "metadata": {},
   "source": [
    "First, get the data for the daily deaths in all countries in the report"
   ]
  },
  {
   "cell_type": "code",
   "execution_count": 30,
   "metadata": {},
   "outputs": [
    {
     "data": {
      "text/html": [
       "<div>\n",
       "<style scoped>\n",
       "    .dataframe tbody tr th:only-of-type {\n",
       "        vertical-align: middle;\n",
       "    }\n",
       "\n",
       "    .dataframe tbody tr th {\n",
       "        vertical-align: top;\n",
       "    }\n",
       "\n",
       "    .dataframe thead th {\n",
       "        text-align: right;\n",
       "    }\n",
       "</style>\n",
       "<table border=\"1\" class=\"dataframe\">\n",
       "  <thead>\n",
       "    <tr style=\"text-align: right;\">\n",
       "      <th></th>\n",
       "      <th>0</th>\n",
       "      <th>1</th>\n",
       "      <th>2</th>\n",
       "      <th>3</th>\n",
       "      <th>4</th>\n",
       "      <th>5</th>\n",
       "      <th>6</th>\n",
       "      <th>7</th>\n",
       "      <th>8</th>\n",
       "      <th>9</th>\n",
       "      <th>...</th>\n",
       "      <th>256</th>\n",
       "      <th>257</th>\n",
       "      <th>258</th>\n",
       "      <th>259</th>\n",
       "      <th>260</th>\n",
       "      <th>261</th>\n",
       "      <th>262</th>\n",
       "      <th>263</th>\n",
       "      <th>264</th>\n",
       "      <th>265</th>\n",
       "    </tr>\n",
       "  </thead>\n",
       "  <tbody>\n",
       "    <tr>\n",
       "      <th>1/22/20</th>\n",
       "      <td>0</td>\n",
       "      <td>0</td>\n",
       "      <td>0</td>\n",
       "      <td>0</td>\n",
       "      <td>0</td>\n",
       "      <td>0</td>\n",
       "      <td>0</td>\n",
       "      <td>0</td>\n",
       "      <td>0</td>\n",
       "      <td>0</td>\n",
       "      <td>...</td>\n",
       "      <td>0</td>\n",
       "      <td>0</td>\n",
       "      <td>0</td>\n",
       "      <td>0</td>\n",
       "      <td>0</td>\n",
       "      <td>0</td>\n",
       "      <td>0</td>\n",
       "      <td>0</td>\n",
       "      <td>0</td>\n",
       "      <td>0</td>\n",
       "    </tr>\n",
       "    <tr>\n",
       "      <th>1/23/20</th>\n",
       "      <td>0</td>\n",
       "      <td>0</td>\n",
       "      <td>0</td>\n",
       "      <td>0</td>\n",
       "      <td>0</td>\n",
       "      <td>0</td>\n",
       "      <td>0</td>\n",
       "      <td>0</td>\n",
       "      <td>0</td>\n",
       "      <td>0</td>\n",
       "      <td>...</td>\n",
       "      <td>0</td>\n",
       "      <td>0</td>\n",
       "      <td>0</td>\n",
       "      <td>0</td>\n",
       "      <td>0</td>\n",
       "      <td>0</td>\n",
       "      <td>0</td>\n",
       "      <td>0</td>\n",
       "      <td>0</td>\n",
       "      <td>0</td>\n",
       "    </tr>\n",
       "    <tr>\n",
       "      <th>1/24/20</th>\n",
       "      <td>0</td>\n",
       "      <td>0</td>\n",
       "      <td>0</td>\n",
       "      <td>0</td>\n",
       "      <td>0</td>\n",
       "      <td>0</td>\n",
       "      <td>0</td>\n",
       "      <td>0</td>\n",
       "      <td>0</td>\n",
       "      <td>0</td>\n",
       "      <td>...</td>\n",
       "      <td>0</td>\n",
       "      <td>0</td>\n",
       "      <td>0</td>\n",
       "      <td>0</td>\n",
       "      <td>0</td>\n",
       "      <td>0</td>\n",
       "      <td>0</td>\n",
       "      <td>0</td>\n",
       "      <td>0</td>\n",
       "      <td>0</td>\n",
       "    </tr>\n",
       "    <tr>\n",
       "      <th>1/25/20</th>\n",
       "      <td>0</td>\n",
       "      <td>0</td>\n",
       "      <td>0</td>\n",
       "      <td>0</td>\n",
       "      <td>0</td>\n",
       "      <td>0</td>\n",
       "      <td>0</td>\n",
       "      <td>0</td>\n",
       "      <td>0</td>\n",
       "      <td>0</td>\n",
       "      <td>...</td>\n",
       "      <td>0</td>\n",
       "      <td>0</td>\n",
       "      <td>0</td>\n",
       "      <td>0</td>\n",
       "      <td>0</td>\n",
       "      <td>0</td>\n",
       "      <td>0</td>\n",
       "      <td>0</td>\n",
       "      <td>0</td>\n",
       "      <td>0</td>\n",
       "    </tr>\n",
       "    <tr>\n",
       "      <th>1/26/20</th>\n",
       "      <td>0</td>\n",
       "      <td>0</td>\n",
       "      <td>0</td>\n",
       "      <td>0</td>\n",
       "      <td>0</td>\n",
       "      <td>0</td>\n",
       "      <td>0</td>\n",
       "      <td>0</td>\n",
       "      <td>0</td>\n",
       "      <td>0</td>\n",
       "      <td>...</td>\n",
       "      <td>0</td>\n",
       "      <td>0</td>\n",
       "      <td>0</td>\n",
       "      <td>0</td>\n",
       "      <td>0</td>\n",
       "      <td>0</td>\n",
       "      <td>0</td>\n",
       "      <td>0</td>\n",
       "      <td>0</td>\n",
       "      <td>0</td>\n",
       "    </tr>\n",
       "  </tbody>\n",
       "</table>\n",
       "<p>5 rows × 266 columns</p>\n",
       "</div>"
      ],
      "text/plain": [
       "         0    1    2    3    4    5    6    7    8    9    ...  256  257  258  \\\n",
       "1/22/20    0    0    0    0    0    0    0    0    0    0  ...    0    0    0   \n",
       "1/23/20    0    0    0    0    0    0    0    0    0    0  ...    0    0    0   \n",
       "1/24/20    0    0    0    0    0    0    0    0    0    0  ...    0    0    0   \n",
       "1/25/20    0    0    0    0    0    0    0    0    0    0  ...    0    0    0   \n",
       "1/26/20    0    0    0    0    0    0    0    0    0    0  ...    0    0    0   \n",
       "\n",
       "         259  260  261  262  263  264  265  \n",
       "1/22/20    0    0    0    0    0    0    0  \n",
       "1/23/20    0    0    0    0    0    0    0  \n",
       "1/24/20    0    0    0    0    0    0    0  \n",
       "1/25/20    0    0    0    0    0    0    0  \n",
       "1/26/20    0    0    0    0    0    0    0  \n",
       "\n",
       "[5 rows x 266 columns]"
      ]
     },
     "execution_count": 30,
     "metadata": {},
     "output_type": "execute_result"
    }
   ],
   "source": [
    "d = deaths_df.loc[:, '1/22/20':].T\n",
    "d.head()"
   ]
  },
  {
   "cell_type": "markdown",
   "metadata": {},
   "source": [
    "Then sum row-wise"
   ]
  },
  {
   "cell_type": "code",
   "execution_count": 31,
   "metadata": {},
   "outputs": [
    {
     "data": {
      "text/plain": [
       "1/22/20    17\n",
       "1/23/20    18\n",
       "1/24/20    26\n",
       "1/25/20    42\n",
       "1/26/20    56\n",
       "dtype: int64"
      ]
     },
     "execution_count": 31,
     "metadata": {},
     "output_type": "execute_result"
    }
   ],
   "source": [
    "d = d.sum(axis=1)\n",
    "d.head()"
   ]
  },
  {
   "cell_type": "markdown",
   "metadata": {},
   "source": [
    "We only need the numeric values here, so we convert the dataframe `d` to a list"
   ]
  },
  {
   "cell_type": "code",
   "execution_count": 32,
   "metadata": {},
   "outputs": [],
   "source": [
    "d = d.to_list()"
   ]
  },
  {
   "cell_type": "markdown",
   "metadata": {},
   "source": [
    "Create a new data frame with two columns, which will be our dataset:"
   ]
  },
  {
   "cell_type": "code",
   "execution_count": 33,
   "metadata": {},
   "outputs": [
    {
     "data": {
      "text/html": [
       "<div>\n",
       "<style scoped>\n",
       "    .dataframe tbody tr th:only-of-type {\n",
       "        vertical-align: middle;\n",
       "    }\n",
       "\n",
       "    .dataframe tbody tr th {\n",
       "        vertical-align: top;\n",
       "    }\n",
       "\n",
       "    .dataframe thead th {\n",
       "        text-align: right;\n",
       "    }\n",
       "</style>\n",
       "<table border=\"1\" class=\"dataframe\">\n",
       "  <thead>\n",
       "    <tr style=\"text-align: right;\">\n",
       "      <th></th>\n",
       "      <th>ds</th>\n",
       "      <th>y</th>\n",
       "    </tr>\n",
       "  </thead>\n",
       "  <tbody>\n",
       "  </tbody>\n",
       "</table>\n",
       "</div>"
      ],
      "text/plain": [
       "Empty DataFrame\n",
       "Columns: [ds, y]\n",
       "Index: []"
      ]
     },
     "execution_count": 33,
     "metadata": {},
     "output_type": "execute_result"
    }
   ],
   "source": [
    "dataset = pd.DataFrame(columns = ['ds','y'])\n",
    "dataset.head()"
   ]
  },
  {
   "cell_type": "code",
   "execution_count": 34,
   "metadata": {},
   "outputs": [
    {
     "data": {
      "text/plain": [
       "(0, 2)"
      ]
     },
     "execution_count": 34,
     "metadata": {},
     "output_type": "execute_result"
    }
   ],
   "source": [
    "dataset.shape"
   ]
  },
  {
   "cell_type": "markdown",
   "metadata": {},
   "source": [
    "Get the dates from the columns in `deaths_df` data frame, starting from the fifth column. They will be obtained in string format."
   ]
  },
  {
   "cell_type": "code",
   "execution_count": 35,
   "metadata": {},
   "outputs": [],
   "source": [
    "dates = list(deaths_df.columns[4:])"
   ]
  },
  {
   "cell_type": "markdown",
   "metadata": {},
   "source": [
    "Convert the string dates into the datetime format, so that we can perform datetime operations on them"
   ]
  },
  {
   "cell_type": "code",
   "execution_count": 36,
   "metadata": {},
   "outputs": [],
   "source": [
    "dates = list(pd.to_datetime(dates))"
   ]
  },
  {
   "cell_type": "markdown",
   "metadata": {},
   "source": [
    "Now, assign the dates and deaths data to the columns in the new dataframe:"
   ]
  },
  {
   "cell_type": "code",
   "execution_count": 37,
   "metadata": {},
   "outputs": [],
   "source": [
    "dataset['ds'] = dates\n",
    "dataset['y'] = d "
   ]
  },
  {
   "cell_type": "markdown",
   "metadata": {},
   "source": [
    "We will need to have only 1 data column, y, with the index being ds"
   ]
  },
  {
   "cell_type": "code",
   "execution_count": 38,
   "metadata": {},
   "outputs": [],
   "source": [
    "dataset = dataset.set_index('ds')"
   ]
  },
  {
   "cell_type": "markdown",
   "metadata": {},
   "source": [
    "Let's plot the daily number of deaths\n"
   ]
  },
  {
   "cell_type": "code",
   "execution_count": 39,
   "metadata": {},
   "outputs": [
    {
     "data": {
      "image/png": "[encoded data removed]",
      "text/plain": [
       "<Figure size 720x720 with 1 Axes>"
      ]
     },
     "metadata": {
      "needs_background": "light"
     },
     "output_type": "display_data"
    }
   ],
   "source": [
    "plt.figure(figsize=(10,10))\n",
    "plt.plot(dataset)\n",
    "plt.savefig('cumulative daily deaths', bbox_inches ='tight', transparent = False)\n"
   ]
  },
  {
   "cell_type": "markdown",
   "metadata": {},
   "source": [
    "and let's see how the daily increase looks like. To do this, we will use the `diff` method from the Dataframe object."
   ]
  },
  {
   "cell_type": "code",
   "execution_count": 40,
   "metadata": {},
   "outputs": [
    {
     "data": {
      "image/png": "[encoded data removed]",
      "text/plain": [
       "<Figure size 720x720 with 1 Axes>"
      ]
     },
     "metadata": {
      "needs_background": "light"
     },
     "output_type": "display_data"
    }
   ],
   "source": [
    "plt.figure(figsize=(10,10))\n",
    "plt.plot(dataset.diff())\n",
    "plt.savefig('daily deaths', bbox_inches ='tight', transparent = False)\n"
   ]
  },
  {
   "cell_type": "markdown",
   "metadata": {},
   "source": [
    "In this project, we are going to analyze the daily reported deaths"
   ]
  },
  {
   "cell_type": "code",
   "execution_count": 41,
   "metadata": {},
   "outputs": [],
   "source": [
    "dataset = dataset.diff()"
   ]
  },
  {
   "cell_type": "markdown",
   "metadata": {},
   "source": [
    "We need to remove the first data point here, which will be a None value"
   ]
  },
  {
   "cell_type": "code",
   "execution_count": 42,
   "metadata": {},
   "outputs": [],
   "source": [
    "dataset = dataset.loc['2020-01-23':'2020-08-13']"
   ]
  },
  {
   "cell_type": "code",
   "execution_count": 43,
   "metadata": {},
   "outputs": [
    {
     "data": {
      "text/html": [
       "<div>\n",
       "<style scoped>\n",
       "    .dataframe tbody tr th:only-of-type {\n",
       "        vertical-align: middle;\n",
       "    }\n",
       "\n",
       "    .dataframe tbody tr th {\n",
       "        vertical-align: top;\n",
       "    }\n",
       "\n",
       "    .dataframe thead th {\n",
       "        text-align: right;\n",
       "    }\n",
       "</style>\n",
       "<table border=\"1\" class=\"dataframe\">\n",
       "  <thead>\n",
       "    <tr style=\"text-align: right;\">\n",
       "      <th></th>\n",
       "      <th>y</th>\n",
       "    </tr>\n",
       "    <tr>\n",
       "      <th>ds</th>\n",
       "      <th></th>\n",
       "    </tr>\n",
       "  </thead>\n",
       "  <tbody>\n",
       "    <tr>\n",
       "      <th>2020-01-23</th>\n",
       "      <td>1.0</td>\n",
       "    </tr>\n",
       "    <tr>\n",
       "      <th>2020-01-24</th>\n",
       "      <td>8.0</td>\n",
       "    </tr>\n",
       "    <tr>\n",
       "      <th>2020-01-25</th>\n",
       "      <td>16.0</td>\n",
       "    </tr>\n",
       "    <tr>\n",
       "      <th>2020-01-26</th>\n",
       "      <td>14.0</td>\n",
       "    </tr>\n",
       "    <tr>\n",
       "      <th>2020-01-27</th>\n",
       "      <td>26.0</td>\n",
       "    </tr>\n",
       "  </tbody>\n",
       "</table>\n",
       "</div>"
      ],
      "text/plain": [
       "               y\n",
       "ds              \n",
       "2020-01-23   1.0\n",
       "2020-01-24   8.0\n",
       "2020-01-25  16.0\n",
       "2020-01-26  14.0\n",
       "2020-01-27  26.0"
      ]
     },
     "execution_count": 43,
     "metadata": {},
     "output_type": "execute_result"
    }
   ],
   "source": [
    "dataset.head()"
   ]
  },
  {
   "cell_type": "markdown",
   "metadata": {},
   "source": [
    "## 3. Forcasting using SARIMAX : Seasonal AutoRegressive Integrated Moving Average with eXogenous regressors model"
   ]
  },
  {
   "cell_type": "markdown",
   "metadata": {},
   "source": [
    "SARIMAX is one of the time series models in the python statistics library statsmodels."
   ]
  },
  {
   "cell_type": "markdown",
   "metadata": {},
   "source": [
    "But before we apply the model, we will split our dataset into a training and test sets. We will do this by taking all dates prior to 31st of July as training set, on which the model will be optimized, and all dates from 31st July as the test set, on which we will test the accuracy of the predictions that the optimized model will make."
   ]
  },
  {
   "cell_type": "code",
   "execution_count": 44,
   "metadata": {},
   "outputs": [],
   "source": [
    "start_date = '2020-07-31'\n",
    "\n",
    "train = dataset.loc[dataset.index < pd.to_datetime(start_date)]\n",
    "test = dataset.loc[dataset.index >= pd.to_datetime(start_date)]"
   ]
  },
  {
   "cell_type": "markdown",
   "metadata": {},
   "source": [
    "Now let's talk about SARIMAX. There are three hyperparameters that go into the order tuple: p, q and d. Here we've used p=2, q=1 and d=3."
   ]
  },
  {
   "cell_type": "code",
   "execution_count": 54,
   "metadata": {},
   "outputs": [],
   "source": [
    "model = SARIMAX(train, order=(2,1,3))"
   ]
  },
  {
   "cell_type": "markdown",
   "metadata": {},
   "source": [
    "Next, we call the fit method to optimize the model."
   ]
  },
  {
   "cell_type": "code",
   "execution_count": 55,
   "metadata": {},
   "outputs": [],
   "source": [
    "results = model.fit(disp=True)"
   ]
  },
  {
   "cell_type": "markdown",
   "metadata": {},
   "source": [
    "Now let's make predictions using the model, and compare those against the values in the test set."
   ]
  },
  {
   "cell_type": "code",
   "execution_count": 56,
   "metadata": {},
   "outputs": [
    {
     "data": {
      "image/png": "[encoded data removed]",
      "text/plain": [
       "<Figure size 720x360 with 1 Axes>"
      ]
     },
     "metadata": {
      "needs_background": "light"
     },
     "output_type": "display_data"
    }
   ],
   "source": [
    "sarimax_prediction = results.predict(start=start_date, end='2020-08-13',dynamic = False)\n",
    "\n",
    "plt.figure(figsize=(10,5))\n",
    "l1 = plt.plot(dataset,label ='Observation')\n",
    "l2 = plt.plot(sarimax_prediction,label ='SARIMAX')\n",
    "#plt.legend(handles =[l1,l2])\n",
    "plt.savefig('SARIMAX prediction', bbox_inches ='tight', transparent = False)\n"
   ]
  },
  {
   "cell_type": "markdown",
   "metadata": {},
   "source": [
    "Since that we are interested in comparing between the different time series analysis approaches, we are going to use one of the validation measures: mean absolute error."
   ]
  },
  {
   "cell_type": "code",
   "execution_count": 57,
   "metadata": {},
   "outputs": [
    {
     "name": "stdout",
     "output_type": "stream",
     "text": [
      "SARIMAX MAE =  650.6117379318947\n"
     ]
    }
   ],
   "source": [
    "print('SARIMAX MAE = ', mean_absolute_error(sarimax_prediction, test))"
   ]
  },
  {
   "cell_type": "markdown",
   "metadata": {},
   "source": [
    "However, in a typical machine learning workflow, we should find the best values of p, q and r that will minimize the error. We can use the auto_arima function in the pmdarima module to do that. This will find the optimal parameter combintation and return the best model.\n"
   ]
  },
  {
   "cell_type": "code",
   "execution_count": 49,
   "metadata": {},
   "outputs": [
    {
     "name": "stdout",
     "output_type": "stream",
     "text": [
      "Performing stepwise search to minimize aic\n",
      " ARIMA(1,1,1)(0,0,0)[0] intercept   : AIC=3111.971, Time=0.28 sec\n",
      " ARIMA(0,1,0)(0,0,0)[0] intercept   : AIC=3132.320, Time=0.02 sec\n",
      " ARIMA(1,1,0)(0,0,0)[0] intercept   : AIC=3133.730, Time=0.04 sec\n",
      " ARIMA(0,1,1)(0,0,0)[0] intercept   : AIC=3133.267, Time=0.06 sec\n",
      " ARIMA(0,1,0)(0,0,0)[0]             : AIC=3130.535, Time=0.02 sec\n",
      " ARIMA(2,1,1)(0,0,0)[0] intercept   : AIC=3099.417, Time=0.68 sec\n",
      " ARIMA(2,1,0)(0,0,0)[0] intercept   : AIC=3128.118, Time=0.07 sec\n",
      " ARIMA(3,1,1)(0,0,0)[0] intercept   : AIC=3089.597, Time=0.78 sec\n",
      " ARIMA(3,1,0)(0,0,0)[0] intercept   : AIC=3116.490, Time=0.10 sec\n",
      " ARIMA(3,1,2)(0,0,0)[0] intercept   : AIC=3043.859, Time=1.24 sec\n",
      " ARIMA(2,1,2)(0,0,0)[0] intercept   : AIC=3040.433, Time=1.05 sec\n",
      " ARIMA(1,1,2)(0,0,0)[0] intercept   : AIC=3106.302, Time=0.90 sec\n",
      " ARIMA(2,1,3)(0,0,0)[0] intercept   : AIC=3025.719, Time=1.47 sec\n",
      " ARIMA(1,1,3)(0,0,0)[0] intercept   : AIC=3105.847, Time=0.97 sec\n",
      " ARIMA(3,1,3)(0,0,0)[0] intercept   : AIC=3033.075, Time=1.61 sec\n",
      " ARIMA(2,1,3)(0,0,0)[0]             : AIC=3024.848, Time=0.99 sec\n",
      " ARIMA(1,1,3)(0,0,0)[0]             : AIC=inf, Time=0.63 sec\n",
      " ARIMA(2,1,2)(0,0,0)[0]             : AIC=inf, Time=0.56 sec\n",
      " ARIMA(3,1,3)(0,0,0)[0]             : AIC=3034.829, Time=1.19 sec\n",
      " ARIMA(1,1,2)(0,0,0)[0]             : AIC=3106.064, Time=0.33 sec\n",
      " ARIMA(3,1,2)(0,0,0)[0]             : AIC=3030.661, Time=0.90 sec\n",
      "\n",
      "Best model:  ARIMA(2,1,3)(0,0,0)[0]          \n",
      "Total fit time: 13.940 seconds\n",
      "                               SARIMAX Results                                \n",
      "==============================================================================\n",
      "Dep. Variable:                      y   No. Observations:                  190\n",
      "Model:               SARIMAX(2, 1, 3)   Log Likelihood               -1506.424\n",
      "Date:                Tue, 10 May 2022   AIC                           3024.848\n",
      "Time:                        22:50:59   BIC                           3044.298\n",
      "Sample:                             0   HQIC                          3032.728\n",
      "                                - 190                                         \n",
      "Covariance Type:                  opg                                         \n",
      "==============================================================================\n",
      "                 coef    std err          z      P>|z|      [0.025      0.975]\n",
      "------------------------------------------------------------------------------\n",
      "ar.L1          1.2434      0.017     72.426      0.000       1.210       1.277\n",
      "ar.L2         -0.9796      0.019    -51.210      0.000      -1.017      -0.942\n",
      "ma.L1         -1.7688      0.065    -27.197      0.000      -1.896      -1.641\n",
      "ma.L2          1.4754      0.097     15.267      0.000       1.286       1.665\n",
      "ma.L3         -0.3939      0.064     -6.142      0.000      -0.520      -0.268\n",
      "sigma2      4.964e+05   3.61e+04     13.750      0.000    4.26e+05    5.67e+05\n",
      "===================================================================================\n",
      "Ljung-Box (L1) (Q):                   0.28   Jarque-Bera (JB):                95.44\n",
      "Prob(Q):                              0.59   Prob(JB):                         0.00\n",
      "Heteroskedasticity (H):              13.70   Skew:                             0.67\n",
      "Prob(H) (two-sided):                  0.00   Kurtosis:                         6.22\n",
      "===================================================================================\n",
      "\n",
      "Warnings:\n",
      "[1] Covariance matrix calculated using the outer product of gradients (complex-step).\n"
     ]
    }
   ],
   "source": [
    "model = pm.auto_arima(train, start_p=1, start_q=1,\n",
    "                      test='adf',       # use adftest to find optimal 'd'\n",
    "                      max_p=3, max_q=3,  # maximum p and q\n",
    "                      m=1,              # frequency of series\n",
    "                      d=None,           # let model determine 'd'\n",
    "                      seasonal=False,   # No Seasonality\n",
    "                      start_P=0,\n",
    "                      D=0,\n",
    "                      trace=True,\n",
    "                      error_action='ignore',\n",
    "                      suppress_warnings=True,\n",
    "                      stepwise=True)\n",
    "\n",
    "print(model.summary())"
   ]
  },
  {
   "cell_type": "markdown",
   "metadata": {},
   "source": [
    "**Note that this gives us the best mode here: \"Best model:  SARIMAX(2,2,3)(0,0,0)[0]\"**"
   ]
  },
  {
   "cell_type": "markdown",
   "metadata": {},
   "source": [
    "## 4. Forcasting using Facebook's Prophet model"
   ]
  },
  {
   "cell_type": "markdown",
   "metadata": {},
   "source": [
    "This is the open source time series library released by Facebook. It is also widely used by Facebook in their own time series analysis tasks. Facebook prophet does not require that you specify or search for hyperparameters. The model can act as a black box that does all the required computations on its own. And it works with the same object-fit-predict API.\n",
    "\n",
    "Prophet expects the data frame to have 2 columns, unlike SARIMAX."
   ]
  },
  {
   "cell_type": "code",
   "execution_count": 58,
   "metadata": {},
   "outputs": [],
   "source": [
    "train['ds'] = train.index.values"
   ]
  },
  {
   "cell_type": "markdown",
   "metadata": {},
   "source": [
    "Then we create a new Prophet object and call the `fit()` method"
   ]
  },
  {
   "cell_type": "code",
   "execution_count": 25,
   "metadata": {},
   "outputs": [
    {
     "name": "stderr",
     "output_type": "stream",
     "text": [
      "INFO:fbprophet:Disabling yearly seasonality. Run prophet with yearly_seasonality=True to override this.\n",
      "INFO:fbprophet:Disabling daily seasonality. Run prophet with daily_seasonality=True to override this.\n"
     ]
    },
    {
     "data": {
      "text/plain": [
       "<fbprophet.forecaster.Prophet at 0x1f04e258e48>"
      ]
     },
     "execution_count": 25,
     "metadata": {},
     "output_type": "execute_result"
    }
   ],
   "source": [
    "m = Prophet()\n",
    "m.fit(train)"
   ]
  },
  {
   "cell_type": "markdown",
   "metadata": {},
   "source": [
    "Now let's forecast:"
   ]
  },
  {
   "cell_type": "code",
   "execution_count": 26,
   "metadata": {},
   "outputs": [],
   "source": [
    "future = m.make_future_dataframe(periods=dataset.shape[0]-train.shape[0])\n",
    "prophet_prediction = m.predict(future)"
   ]
  },
  {
   "cell_type": "code",
   "execution_count": 27,
   "metadata": {},
   "outputs": [
    {
     "data": {
      "text/html": [
       "<div>\n",
       "<style scoped>\n",
       "    .dataframe tbody tr th:only-of-type {\n",
       "        vertical-align: middle;\n",
       "    }\n",
       "\n",
       "    .dataframe tbody tr th {\n",
       "        vertical-align: top;\n",
       "    }\n",
       "\n",
       "    .dataframe thead th {\n",
       "        text-align: right;\n",
       "    }\n",
       "</style>\n",
       "<table border=\"1\" class=\"dataframe\">\n",
       "  <thead>\n",
       "    <tr style=\"text-align: right;\">\n",
       "      <th></th>\n",
       "      <th>ds</th>\n",
       "      <th>trend</th>\n",
       "      <th>yhat_lower</th>\n",
       "      <th>yhat_upper</th>\n",
       "      <th>trend_lower</th>\n",
       "      <th>trend_upper</th>\n",
       "      <th>additive_terms</th>\n",
       "      <th>additive_terms_lower</th>\n",
       "      <th>additive_terms_upper</th>\n",
       "      <th>weekly</th>\n",
       "      <th>weekly_lower</th>\n",
       "      <th>weekly_upper</th>\n",
       "      <th>multiplicative_terms</th>\n",
       "      <th>multiplicative_terms_lower</th>\n",
       "      <th>multiplicative_terms_upper</th>\n",
       "      <th>yhat</th>\n",
       "    </tr>\n",
       "  </thead>\n",
       "  <tbody>\n",
       "    <tr>\n",
       "      <th>0</th>\n",
       "      <td>2020-01-23</td>\n",
       "      <td>-1054.692611</td>\n",
       "      <td>-2252.821750</td>\n",
       "      <td>995.177824</td>\n",
       "      <td>-1054.692611</td>\n",
       "      <td>-1054.692611</td>\n",
       "      <td>486.626329</td>\n",
       "      <td>486.626329</td>\n",
       "      <td>486.626329</td>\n",
       "      <td>486.626329</td>\n",
       "      <td>486.626329</td>\n",
       "      <td>486.626329</td>\n",
       "      <td>0.0</td>\n",
       "      <td>0.0</td>\n",
       "      <td>0.0</td>\n",
       "      <td>-568.066282</td>\n",
       "    </tr>\n",
       "    <tr>\n",
       "      <th>1</th>\n",
       "      <td>2020-01-24</td>\n",
       "      <td>-988.368618</td>\n",
       "      <td>-2276.387122</td>\n",
       "      <td>994.826729</td>\n",
       "      <td>-988.368618</td>\n",
       "      <td>-988.368618</td>\n",
       "      <td>387.419362</td>\n",
       "      <td>387.419362</td>\n",
       "      <td>387.419362</td>\n",
       "      <td>387.419362</td>\n",
       "      <td>387.419362</td>\n",
       "      <td>387.419362</td>\n",
       "      <td>0.0</td>\n",
       "      <td>0.0</td>\n",
       "      <td>0.0</td>\n",
       "      <td>-600.949255</td>\n",
       "    </tr>\n",
       "    <tr>\n",
       "      <th>2</th>\n",
       "      <td>2020-01-25</td>\n",
       "      <td>-922.044624</td>\n",
       "      <td>-2750.573083</td>\n",
       "      <td>582.137895</td>\n",
       "      <td>-922.044624</td>\n",
       "      <td>-922.044624</td>\n",
       "      <td>-169.735133</td>\n",
       "      <td>-169.735133</td>\n",
       "      <td>-169.735133</td>\n",
       "      <td>-169.735133</td>\n",
       "      <td>-169.735133</td>\n",
       "      <td>-169.735133</td>\n",
       "      <td>0.0</td>\n",
       "      <td>0.0</td>\n",
       "      <td>0.0</td>\n",
       "      <td>-1091.779757</td>\n",
       "    </tr>\n",
       "    <tr>\n",
       "      <th>3</th>\n",
       "      <td>2020-01-26</td>\n",
       "      <td>-855.720630</td>\n",
       "      <td>-3367.006829</td>\n",
       "      <td>-101.960028</td>\n",
       "      <td>-855.720630</td>\n",
       "      <td>-855.720630</td>\n",
       "      <td>-915.123887</td>\n",
       "      <td>-915.123887</td>\n",
       "      <td>-915.123887</td>\n",
       "      <td>-915.123887</td>\n",
       "      <td>-915.123887</td>\n",
       "      <td>-915.123887</td>\n",
       "      <td>0.0</td>\n",
       "      <td>0.0</td>\n",
       "      <td>0.0</td>\n",
       "      <td>-1770.844518</td>\n",
       "    </tr>\n",
       "    <tr>\n",
       "      <th>4</th>\n",
       "      <td>2020-01-27</td>\n",
       "      <td>-789.396637</td>\n",
       "      <td>-3232.695391</td>\n",
       "      <td>188.594354</td>\n",
       "      <td>-789.396637</td>\n",
       "      <td>-789.396637</td>\n",
       "      <td>-734.189947</td>\n",
       "      <td>-734.189947</td>\n",
       "      <td>-734.189947</td>\n",
       "      <td>-734.189947</td>\n",
       "      <td>-734.189947</td>\n",
       "      <td>-734.189947</td>\n",
       "      <td>0.0</td>\n",
       "      <td>0.0</td>\n",
       "      <td>0.0</td>\n",
       "      <td>-1523.586583</td>\n",
       "    </tr>\n",
       "    <tr>\n",
       "      <th>...</th>\n",
       "      <td>...</td>\n",
       "      <td>...</td>\n",
       "      <td>...</td>\n",
       "      <td>...</td>\n",
       "      <td>...</td>\n",
       "      <td>...</td>\n",
       "      <td>...</td>\n",
       "      <td>...</td>\n",
       "      <td>...</td>\n",
       "      <td>...</td>\n",
       "      <td>...</td>\n",
       "      <td>...</td>\n",
       "      <td>...</td>\n",
       "      <td>...</td>\n",
       "      <td>...</td>\n",
       "      <td>...</td>\n",
       "    </tr>\n",
       "    <tr>\n",
       "      <th>199</th>\n",
       "      <td>2020-08-09</td>\n",
       "      <td>5262.061643</td>\n",
       "      <td>2645.728651</td>\n",
       "      <td>5917.909449</td>\n",
       "      <td>5239.204378</td>\n",
       "      <td>5284.833350</td>\n",
       "      <td>-915.123887</td>\n",
       "      <td>-915.123887</td>\n",
       "      <td>-915.123887</td>\n",
       "      <td>-915.123887</td>\n",
       "      <td>-915.123887</td>\n",
       "      <td>-915.123887</td>\n",
       "      <td>0.0</td>\n",
       "      <td>0.0</td>\n",
       "      <td>0.0</td>\n",
       "      <td>4346.937756</td>\n",
       "    </tr>\n",
       "    <tr>\n",
       "      <th>200</th>\n",
       "      <td>2020-08-10</td>\n",
       "      <td>5266.518199</td>\n",
       "      <td>2834.099396</td>\n",
       "      <td>6136.100105</td>\n",
       "      <td>5239.546104</td>\n",
       "      <td>5293.307121</td>\n",
       "      <td>-734.189947</td>\n",
       "      <td>-734.189947</td>\n",
       "      <td>-734.189947</td>\n",
       "      <td>-734.189947</td>\n",
       "      <td>-734.189947</td>\n",
       "      <td>-734.189947</td>\n",
       "      <td>0.0</td>\n",
       "      <td>0.0</td>\n",
       "      <td>0.0</td>\n",
       "      <td>4532.328252</td>\n",
       "    </tr>\n",
       "    <tr>\n",
       "      <th>201</th>\n",
       "      <td>2020-08-11</td>\n",
       "      <td>5270.974755</td>\n",
       "      <td>4029.199170</td>\n",
       "      <td>7437.824181</td>\n",
       "      <td>5239.632493</td>\n",
       "      <td>5301.728849</td>\n",
       "      <td>451.424520</td>\n",
       "      <td>451.424520</td>\n",
       "      <td>451.424520</td>\n",
       "      <td>451.424520</td>\n",
       "      <td>451.424520</td>\n",
       "      <td>451.424520</td>\n",
       "      <td>0.0</td>\n",
       "      <td>0.0</td>\n",
       "      <td>0.0</td>\n",
       "      <td>5722.399275</td>\n",
       "    </tr>\n",
       "    <tr>\n",
       "      <th>202</th>\n",
       "      <td>2020-08-12</td>\n",
       "      <td>5275.431311</td>\n",
       "      <td>4303.922522</td>\n",
       "      <td>7437.660357</td>\n",
       "      <td>5238.405628</td>\n",
       "      <td>5311.234033</td>\n",
       "      <td>493.578756</td>\n",
       "      <td>493.578756</td>\n",
       "      <td>493.578756</td>\n",
       "      <td>493.578756</td>\n",
       "      <td>493.578756</td>\n",
       "      <td>493.578756</td>\n",
       "      <td>0.0</td>\n",
       "      <td>0.0</td>\n",
       "      <td>0.0</td>\n",
       "      <td>5769.010066</td>\n",
       "    </tr>\n",
       "    <tr>\n",
       "      <th>203</th>\n",
       "      <td>2020-08-13</td>\n",
       "      <td>5279.887866</td>\n",
       "      <td>4194.422675</td>\n",
       "      <td>7448.509800</td>\n",
       "      <td>5238.130752</td>\n",
       "      <td>5320.803070</td>\n",
       "      <td>486.626329</td>\n",
       "      <td>486.626329</td>\n",
       "      <td>486.626329</td>\n",
       "      <td>486.626329</td>\n",
       "      <td>486.626329</td>\n",
       "      <td>486.626329</td>\n",
       "      <td>0.0</td>\n",
       "      <td>0.0</td>\n",
       "      <td>0.0</td>\n",
       "      <td>5766.514196</td>\n",
       "    </tr>\n",
       "  </tbody>\n",
       "</table>\n",
       "<p>204 rows × 16 columns</p>\n",
       "</div>"
      ],
      "text/plain": [
       "            ds        trend   yhat_lower   yhat_upper  trend_lower  \\\n",
       "0   2020-01-23 -1054.692611 -2252.821750   995.177824 -1054.692611   \n",
       "1   2020-01-24  -988.368618 -2276.387122   994.826729  -988.368618   \n",
       "2   2020-01-25  -922.044624 -2750.573083   582.137895  -922.044624   \n",
       "3   2020-01-26  -855.720630 -3367.006829  -101.960028  -855.720630   \n",
       "4   2020-01-27  -789.396637 -3232.695391   188.594354  -789.396637   \n",
       "..         ...          ...          ...          ...          ...   \n",
       "199 2020-08-09  5262.061643  2645.728651  5917.909449  5239.204378   \n",
       "200 2020-08-10  5266.518199  2834.099396  6136.100105  5239.546104   \n",
       "201 2020-08-11  5270.974755  4029.199170  7437.824181  5239.632493   \n",
       "202 2020-08-12  5275.431311  4303.922522  7437.660357  5238.405628   \n",
       "203 2020-08-13  5279.887866  4194.422675  7448.509800  5238.130752   \n",
       "\n",
       "     trend_upper  additive_terms  additive_terms_lower  additive_terms_upper  \\\n",
       "0   -1054.692611      486.626329            486.626329            486.626329   \n",
       "1    -988.368618      387.419362            387.419362            387.419362   \n",
       "2    -922.044624     -169.735133           -169.735133           -169.735133   \n",
       "3    -855.720630     -915.123887           -915.123887           -915.123887   \n",
       "4    -789.396637     -734.189947           -734.189947           -734.189947   \n",
       "..           ...             ...                   ...                   ...   \n",
       "199  5284.833350     -915.123887           -915.123887           -915.123887   \n",
       "200  5293.307121     -734.189947           -734.189947           -734.189947   \n",
       "201  5301.728849      451.424520            451.424520            451.424520   \n",
       "202  5311.234033      493.578756            493.578756            493.578756   \n",
       "203  5320.803070      486.626329            486.626329            486.626329   \n",
       "\n",
       "         weekly  weekly_lower  weekly_upper  multiplicative_terms  \\\n",
       "0    486.626329    486.626329    486.626329                   0.0   \n",
       "1    387.419362    387.419362    387.419362                   0.0   \n",
       "2   -169.735133   -169.735133   -169.735133                   0.0   \n",
       "3   -915.123887   -915.123887   -915.123887                   0.0   \n",
       "4   -734.189947   -734.189947   -734.189947                   0.0   \n",
       "..          ...           ...           ...                   ...   \n",
       "199 -915.123887   -915.123887   -915.123887                   0.0   \n",
       "200 -734.189947   -734.189947   -734.189947                   0.0   \n",
       "201  451.424520    451.424520    451.424520                   0.0   \n",
       "202  493.578756    493.578756    493.578756                   0.0   \n",
       "203  486.626329    486.626329    486.626329                   0.0   \n",
       "\n",
       "     multiplicative_terms_lower  multiplicative_terms_upper         yhat  \n",
       "0                           0.0                         0.0  -568.066282  \n",
       "1                           0.0                         0.0  -600.949255  \n",
       "2                           0.0                         0.0 -1091.779757  \n",
       "3                           0.0                         0.0 -1770.844518  \n",
       "4                           0.0                         0.0 -1523.586583  \n",
       "..                          ...                         ...          ...  \n",
       "199                         0.0                         0.0  4346.937756  \n",
       "200                         0.0                         0.0  4532.328252  \n",
       "201                         0.0                         0.0  5722.399275  \n",
       "202                         0.0                         0.0  5769.010066  \n",
       "203                         0.0                         0.0  5766.514196  \n",
       "\n",
       "[204 rows x 16 columns]"
      ]
     },
     "execution_count": 27,
     "metadata": {},
     "output_type": "execute_result"
    }
   ],
   "source": [
    "prophet_prediction"
   ]
  },
  {
   "cell_type": "markdown",
   "metadata": {},
   "source": [
    "Now let us calculate the mean absolute error for our predictions."
   ]
  },
  {
   "cell_type": "code",
   "execution_count": 28,
   "metadata": {},
   "outputs": [
    {
     "name": "stdout",
     "output_type": "stream",
     "text": [
      "Prophet MAE =  572.5617787343837\n"
     ]
    }
   ],
   "source": [
    "prophet_prediction = prophet_prediction.set_index('ds')\n",
    "prophet_future = prophet_prediction.yhat.loc[prophet_prediction.index >= start_date]\n",
    "print('Prophet MAE = ', mean_absolute_error(prophet_future,test))"
   ]
  },
  {
   "cell_type": "markdown",
   "metadata": {},
   "source": [
    "Next, let's visualize the predictions."
   ]
  },
  {
   "cell_type": "code",
   "execution_count": 30,
   "metadata": {},
   "outputs": [
    {
     "data": {
      "image/png": "[encoded data removed]",
      "text/plain": [
       "<Figure size 720x360 with 1 Axes>"
      ]
     },
     "metadata": {
      "needs_background": "light"
     },
     "output_type": "display_data"
    }
   ],
   "source": [
    "plt.figure(figsize =(10,5))\n",
    "l1 = plt.plot(dataset,label ='Observation')\n",
    "l2 = plt.plot(prophet_future, label ='Prophet')\n",
    "#plt.legend(handles=[l1,l2])\n",
    "plt.savefig('Prophet Predictions', bbox_inches ='tight', transparent = False)"
   ]
  },
  {
   "cell_type": "markdown",
   "metadata": {},
   "source": [
    "## 5. Preparing the dataset for XGBOOST and NN"
   ]
  },
  {
   "cell_type": "markdown",
   "metadata": {},
   "source": [
    "Unlike the prophet and SAIMAX models, the two models we will train in Task 6, namely XGBOOST and NN, are supervised machine learning models that deal with independent data points, or examples. It assumes that each data point is totally independent from the rest of the data points in the dataset.\n",
    "\n",
    "Here is a method that extracts these features from a given dataframe object."
   ]
  },
  {
   "cell_type": "code",
   "execution_count": 59,
   "metadata": {},
   "outputs": [
    {
     "data": {
      "text/html": [
       "<div>\n",
       "<style scoped>\n",
       "    .dataframe tbody tr th:only-of-type {\n",
       "        vertical-align: middle;\n",
       "    }\n",
       "\n",
       "    .dataframe tbody tr th {\n",
       "        vertical-align: top;\n",
       "    }\n",
       "\n",
       "    .dataframe thead th {\n",
       "        text-align: right;\n",
       "    }\n",
       "</style>\n",
       "<table border=\"1\" class=\"dataframe\">\n",
       "  <thead>\n",
       "    <tr style=\"text-align: right;\">\n",
       "      <th></th>\n",
       "      <th>day</th>\n",
       "      <th>month</th>\n",
       "      <th>quarter</th>\n",
       "      <th>dayofweek</th>\n",
       "      <th>dayofyear</th>\n",
       "      <th>weekofyear</th>\n",
       "    </tr>\n",
       "  </thead>\n",
       "  <tbody>\n",
       "    <tr>\n",
       "      <th>0</th>\n",
       "      <td>23</td>\n",
       "      <td>1</td>\n",
       "      <td>1</td>\n",
       "      <td>3</td>\n",
       "      <td>23</td>\n",
       "      <td>4</td>\n",
       "    </tr>\n",
       "    <tr>\n",
       "      <th>1</th>\n",
       "      <td>24</td>\n",
       "      <td>1</td>\n",
       "      <td>1</td>\n",
       "      <td>4</td>\n",
       "      <td>24</td>\n",
       "      <td>4</td>\n",
       "    </tr>\n",
       "    <tr>\n",
       "      <th>2</th>\n",
       "      <td>25</td>\n",
       "      <td>1</td>\n",
       "      <td>1</td>\n",
       "      <td>5</td>\n",
       "      <td>25</td>\n",
       "      <td>4</td>\n",
       "    </tr>\n",
       "    <tr>\n",
       "      <th>3</th>\n",
       "      <td>26</td>\n",
       "      <td>1</td>\n",
       "      <td>1</td>\n",
       "      <td>6</td>\n",
       "      <td>26</td>\n",
       "      <td>4</td>\n",
       "    </tr>\n",
       "    <tr>\n",
       "      <th>4</th>\n",
       "      <td>27</td>\n",
       "      <td>1</td>\n",
       "      <td>1</td>\n",
       "      <td>0</td>\n",
       "      <td>27</td>\n",
       "      <td>5</td>\n",
       "    </tr>\n",
       "  </tbody>\n",
       "</table>\n",
       "</div>"
      ],
      "text/plain": [
       "   day  month  quarter  dayofweek  dayofyear  weekofyear\n",
       "0   23      1        1          3         23           4\n",
       "1   24      1        1          4         24           4\n",
       "2   25      1        1          5         25           4\n",
       "3   26      1        1          6         26           4\n",
       "4   27      1        1          0         27           5"
      ]
     },
     "execution_count": 59,
     "metadata": {},
     "output_type": "execute_result"
    }
   ],
   "source": [
    "def featurise(t):\n",
    "    X = pd.DataFrame()\n",
    "    \n",
    "    X['day'] = t.index.day\n",
    "    X['month'] = t.index.month\n",
    "    X['quarter'] = t.index.quarter\n",
    "    X['dayofweek'] = t.index.dayofweek\n",
    "    X['dayofyear'] = t.index.dayofyear\n",
    "    X['weekofyear'] = t.index.weekofyear\n",
    "    \n",
    "    y = t.y\n",
    "    return X, y\n",
    "\n",
    "featurise(dataset)[0].head()\n"
   ]
  },
  {
   "cell_type": "markdown",
   "metadata": {},
   "source": [
    "## 6. Create training and test datasets by splitting the dataset, and perform data normalization."
   ]
  },
  {
   "cell_type": "markdown",
   "metadata": {},
   "source": [
    "In this task we are going to cover two topics in data preparation: splitting the dataset into training and test data, and normalizing the data.\n",
    "\n",
    "You might have already performed a splitting operation of a dataset in machine learning, where one takes a randomly selected portion of the dataset, say 20%, as a test set, while the remaining 80% is the training set. It is randomly selected because the whole dataset is randomly shufflled before the selection. Another popular approach is the k-fold cross validation.\n",
    "\n",
    "However, those two methods won't work with time series data. The reason is: when we train the model on the training set, the purpose is to predict the target values in the future, which corresponds to date values that are outside of the date values in the training set."
   ]
  },
  {
   "cell_type": "code",
   "execution_count": 60,
   "metadata": {},
   "outputs": [],
   "source": [
    "X_train, y_train = featurise(dataset.loc[dataset.index < pd.to_datetime(start_date)])\n",
    "\n",
    "X_test, y_test = featurise(dataset.loc[dataset.index >= pd.to_datetime(start_date)])\n"
   ]
  },
  {
   "cell_type": "markdown",
   "metadata": {},
   "source": [
    "Now let's discuss data normalization. We perform data normalization so as to make the range of values of the features, or the columns in the X_train table, as close as possible. For example, we have the features dayofweek and dayofyear. The range of values of dayofweek is from 1 to 7, whereas dayofyear is from 1 to 365. Having such large differences in the ranges of values will either slow down the training of the machine learning model or make it quite difficult. We solve this problem by applying normalization. There are several ways we can normalize the data with. Here I will choose the StandardScaler, which applies the following equation on each of the columns.\n",
    "\n",
    "z = (x - u) / s\n",
    "\n",
    "Here x is the column before scaling, u is thee mean and s is the standard deviation. So basically, we subtract the mean of each column from itself, then divide by the standard deviation of that column. To apply StandardScaler, we first fit the scaler object to the dataset:"
   ]
  },
  {
   "cell_type": "code",
   "execution_count": 61,
   "metadata": {},
   "outputs": [
    {
     "data": {
      "text/plain": [
       "StandardScaler()"
      ]
     },
     "execution_count": 61,
     "metadata": {},
     "output_type": "execute_result"
    }
   ],
   "source": [
    "scaler = StandardScaler()\n",
    "scaler.fit(X_train)\n"
   ]
  },
  {
   "cell_type": "markdown",
   "metadata": {},
   "source": [
    "Apply the scaling to both the training and test sets, as follows."
   ]
  },
  {
   "cell_type": "code",
   "execution_count": 62,
   "metadata": {},
   "outputs": [],
   "source": [
    "scaled_train = scaler.transform(X_train)\n",
    "scaled_test = scaler.transform(X_test)"
   ]
  },
  {
   "cell_type": "markdown",
   "metadata": {},
   "source": [
    "## 7. Train the XGBOOST and NN models"
   ]
  },
  {
   "cell_type": "markdown",
   "metadata": {},
   "source": [
    "First, create the XGBRegressor object which will represent the XGBOOST regression model."
   ]
  },
  {
   "cell_type": "code",
   "execution_count": 87,
   "metadata": {},
   "outputs": [],
   "source": [
    "XGBOOST_model = XGBRegressor(n_estimators =7)"
   ]
  },
  {
   "cell_type": "markdown",
   "metadata": {},
   "source": [
    "Next, train the XGBOOST regression model using the fit method, and perform prediction using the predict method."
   ]
  },
  {
   "cell_type": "code",
   "execution_count": 88,
   "metadata": {},
   "outputs": [
    {
     "name": "stdout",
     "output_type": "stream",
     "text": [
      "[0]\tvalidation_0-rmse:3121.15405\tvalidation_1-rmse:4338.40674\n",
      "[1]\tvalidation_0-rmse:2264.95044\tvalidation_1-rmse:3135.70386\n",
      "[2]\tvalidation_0-rmse:1665.83826\tvalidation_1-rmse:2322.55371\n",
      "[3]\tvalidation_0-rmse:1241.47046\tvalidation_1-rmse:1676.83875\n",
      "[4]\tvalidation_0-rmse:942.85718\tvalidation_1-rmse:1199.80676\n",
      "[5]\tvalidation_0-rmse:732.31848\tvalidation_1-rmse:765.99835\n",
      "[6]\tvalidation_0-rmse:582.53577\tvalidation_1-rmse:501.29828\n"
     ]
    },
    {
     "data": {
      "text/plain": [
       "XGBRegressor(base_score=0.5, booster='gbtree', colsample_bylevel=1,\n",
       "             colsample_bynode=1, colsample_bytree=1, enable_categorical=False,\n",
       "             gamma=0, gpu_id=-1, importance_type=None,\n",
       "             interaction_constraints='', learning_rate=0.300000012,\n",
       "             max_delta_step=0, max_depth=6, min_child_weight=1, missing=nan,\n",
       "             monotone_constraints='()', n_estimators=7, n_jobs=8,\n",
       "             num_parallel_tree=1, predictor='auto', random_state=0, reg_alpha=0,\n",
       "             reg_lambda=1, scale_pos_weight=1, subsample=1, tree_method='exact',\n",
       "             validate_parameters=1, verbosity=None)"
      ]
     },
     "execution_count": 88,
     "metadata": {},
     "output_type": "execute_result"
    }
   ],
   "source": [
    "XGBOOST_model.fit(scaled_train, y_train,\n",
    "                 eval_set=[(scaled_train, y_train),(scaled_test, y_test)],\n",
    "                 verbose = True)"
   ]
  },
  {
   "cell_type": "code",
   "execution_count": 89,
   "metadata": {},
   "outputs": [],
   "source": [
    "XGBOOST_prediction = XGBOOST_model.predict(scaled_test)"
   ]
  },
  {
   "cell_type": "markdown",
   "metadata": {},
   "source": [
    "Let us calculate the mean absolute error for the training."
   ]
  },
  {
   "cell_type": "code",
   "execution_count": 90,
   "metadata": {},
   "outputs": [
    {
     "name": "stdout",
     "output_type": "stream",
     "text": [
      "XGBOOST MAE = 392.1467982700893\n"
     ]
    }
   ],
   "source": [
    "print('XGBOOST MAE =', mean_absolute_error(XGBOOST_prediction, y_test))"
   ]
  },
  {
   "cell_type": "markdown",
   "metadata": {},
   "source": [
    "Creation and training of the feedforward neural network model."
   ]
  },
  {
   "cell_type": "code",
   "execution_count": 92,
   "metadata": {},
   "outputs": [
    {
     "name": "stdout",
     "output_type": "stream",
     "text": [
      "Epoch 1/220\n",
      "6/6 [==============================] - 2s 82ms/step - loss: 3521.5305 - val_loss: 5792.0811\n",
      "Epoch 2/220\n",
      "6/6 [==============================] - 0s 19ms/step - loss: 3521.4534 - val_loss: 5792.0288\n",
      "Epoch 3/220\n",
      "6/6 [==============================] - 0s 15ms/step - loss: 3521.3855 - val_loss: 5791.9390\n",
      "Epoch 4/220\n",
      "6/6 [==============================] - 0s 14ms/step - loss: 3521.3132 - val_loss: 5791.8135\n",
      "Epoch 5/220\n",
      "6/6 [==============================] - 0s 14ms/step - loss: 3521.2402 - val_loss: 5791.6743\n",
      "Epoch 6/220\n",
      "6/6 [==============================] - 0s 14ms/step - loss: 3521.1648 - val_loss: 5791.6016\n",
      "Epoch 7/220\n",
      "6/6 [==============================] - 0s 14ms/step - loss: 3521.0845 - val_loss: 5791.4282\n",
      "Epoch 8/220\n",
      "6/6 [==============================] - 0s 16ms/step - loss: 3520.9988 - val_loss: 5791.2993\n",
      "Epoch 9/220\n",
      "6/6 [==============================] - 0s 16ms/step - loss: 3520.9075 - val_loss: 5791.1343\n",
      "Epoch 10/220\n",
      "6/6 [==============================] - 0s 16ms/step - loss: 3520.8059 - val_loss: 5790.9243\n",
      "Epoch 11/220\n",
      "6/6 [==============================] - 0s 16ms/step - loss: 3520.6960 - val_loss: 5790.7446\n",
      "Epoch 12/220\n",
      "6/6 [==============================] - 0s 14ms/step - loss: 3520.5774 - val_loss: 5790.5312\n",
      "Epoch 13/220\n",
      "6/6 [==============================] - 0s 13ms/step - loss: 3520.4451 - val_loss: 5790.2266\n",
      "Epoch 14/220\n",
      "6/6 [==============================] - 0s 13ms/step - loss: 3520.2986 - val_loss: 5789.9634\n",
      "Epoch 15/220\n",
      "6/6 [==============================] - 0s 14ms/step - loss: 3520.1370 - val_loss: 5789.7261\n",
      "Epoch 16/220\n",
      "6/6 [==============================] - 0s 14ms/step - loss: 3519.9639 - val_loss: 5789.3525\n",
      "Epoch 17/220\n",
      "6/6 [==============================] - 0s 15ms/step - loss: 3519.7629 - val_loss: 5788.9736\n",
      "Epoch 18/220\n",
      "6/6 [==============================] - 0s 13ms/step - loss: 3519.5481 - val_loss: 5788.4380\n",
      "Epoch 19/220\n",
      "6/6 [==============================] - 0s 14ms/step - loss: 3519.3027 - val_loss: 5788.0234\n",
      "Epoch 20/220\n",
      "6/6 [==============================] - 0s 16ms/step - loss: 3519.0349 - val_loss: 5787.5366\n",
      "Epoch 21/220\n",
      "6/6 [==============================] - 0s 14ms/step - loss: 3518.7393 - val_loss: 5787.1245\n",
      "Epoch 22/220\n",
      "6/6 [==============================] - 0s 9ms/step - loss: 3518.4211 - val_loss: 5786.3984\n",
      "Epoch 23/220\n",
      "6/6 [==============================] - 0s 8ms/step - loss: 3518.0552 - val_loss: 5785.8198\n",
      "Epoch 24/220\n",
      "6/6 [==============================] - 0s 9ms/step - loss: 3517.6602 - val_loss: 5785.1279\n",
      "Epoch 25/220\n",
      "6/6 [==============================] - 0s 9ms/step - loss: 3517.2317 - val_loss: 5784.4092\n",
      "Epoch 26/220\n",
      "6/6 [==============================] - 0s 8ms/step - loss: 3516.7566 - val_loss: 5783.4951\n",
      "Epoch 27/220\n",
      "6/6 [==============================] - 0s 10ms/step - loss: 3516.2434 - val_loss: 5782.6406\n",
      "Epoch 28/220\n",
      "6/6 [==============================] - 0s 11ms/step - loss: 3515.6797 - val_loss: 5781.5581\n",
      "Epoch 29/220\n",
      "6/6 [==============================] - 0s 11ms/step - loss: 3515.0654 - val_loss: 5780.3877\n",
      "Epoch 30/220\n",
      "6/6 [==============================] - 0s 12ms/step - loss: 3514.4094 - val_loss: 5779.0249\n",
      "Epoch 31/220\n",
      "6/6 [==============================] - 0s 11ms/step - loss: 3513.6978 - val_loss: 5777.6865\n",
      "Epoch 32/220\n",
      "6/6 [==============================] - 0s 11ms/step - loss: 3512.9241 - val_loss: 5776.1943\n",
      "Epoch 33/220\n",
      "6/6 [==============================] - 0s 13ms/step - loss: 3512.0969 - val_loss: 5774.4141\n",
      "Epoch 34/220\n",
      "6/6 [==============================] - 0s 14ms/step - loss: 3511.2144 - val_loss: 5772.3257\n",
      "Epoch 35/220\n",
      "6/6 [==============================] - 0s 13ms/step - loss: 3510.2568 - val_loss: 5770.1885\n",
      "Epoch 36/220\n",
      "6/6 [==============================] - 0s 17ms/step - loss: 3509.2170 - val_loss: 5768.5210\n",
      "Epoch 37/220\n",
      "6/6 [==============================] - 0s 17ms/step - loss: 3508.1282 - val_loss: 5766.0244\n",
      "Epoch 38/220\n",
      "6/6 [==============================] - 0s 17ms/step - loss: 3506.9622 - val_loss: 5763.3237\n",
      "Epoch 39/220\n",
      "6/6 [==============================] - 0s 14ms/step - loss: 3505.6960 - val_loss: 5760.6294\n",
      "Epoch 40/220\n",
      "6/6 [==============================] - 0s 13ms/step - loss: 3504.3794 - val_loss: 5757.9790\n",
      "Epoch 41/220\n",
      "6/6 [==============================] - 0s 14ms/step - loss: 3502.9717 - val_loss: 5754.4609\n",
      "Epoch 42/220\n",
      "6/6 [==============================] - 0s 15ms/step - loss: 3501.4895 - val_loss: 5750.9258\n",
      "Epoch 43/220\n",
      "6/6 [==============================] - 0s 14ms/step - loss: 3499.9121 - val_loss: 5746.7407\n",
      "Epoch 44/220\n",
      "6/6 [==============================] - 0s 14ms/step - loss: 3498.2090 - val_loss: 5742.9595\n",
      "Epoch 45/220\n",
      "6/6 [==============================] - 0s 16ms/step - loss: 3496.4812 - val_loss: 5738.1519\n",
      "Epoch 46/220\n",
      "6/6 [==============================] - 0s 15ms/step - loss: 3494.5730 - val_loss: 5734.0679\n",
      "Epoch 47/220\n",
      "6/6 [==============================] - 0s 15ms/step - loss: 3492.6172 - val_loss: 5729.3599\n",
      "Epoch 48/220\n",
      "6/6 [==============================] - 0s 17ms/step - loss: 3490.5435 - val_loss: 5724.6118\n",
      "Epoch 49/220\n",
      "6/6 [==============================] - 0s 13ms/step - loss: 3488.3999 - val_loss: 5719.0273\n",
      "Epoch 50/220\n",
      "6/6 [==============================] - 0s 13ms/step - loss: 3486.0852 - val_loss: 5714.5942\n",
      "Epoch 51/220\n",
      "6/6 [==============================] - 0s 9ms/step - loss: 3483.7605 - val_loss: 5708.3623\n",
      "Epoch 52/220\n",
      "6/6 [==============================] - 0s 11ms/step - loss: 3481.2473 - val_loss: 5702.5234\n",
      "Epoch 53/220\n",
      "6/6 [==============================] - 0s 12ms/step - loss: 3478.6702 - val_loss: 5695.5010\n",
      "Epoch 54/220\n",
      "6/6 [==============================] - 0s 9ms/step - loss: 3475.9092 - val_loss: 5689.2554\n",
      "Epoch 55/220\n",
      "6/6 [==============================] - 0s 9ms/step - loss: 3473.1116 - val_loss: 5682.2681\n",
      "Epoch 56/220\n",
      "6/6 [==============================] - 0s 10ms/step - loss: 3470.1177 - val_loss: 5675.4644\n",
      "Epoch 57/220\n",
      "6/6 [==============================] - 0s 9ms/step - loss: 3467.0447 - val_loss: 5668.6377\n",
      "Epoch 58/220\n",
      "6/6 [==============================] - 0s 9ms/step - loss: 3463.8245 - val_loss: 5661.8271\n",
      "Epoch 59/220\n",
      "6/6 [==============================] - 0s 9ms/step - loss: 3460.5537 - val_loss: 5653.8047\n",
      "Epoch 60/220\n",
      "6/6 [==============================] - 0s 10ms/step - loss: 3457.0654 - val_loss: 5646.8218\n",
      "Epoch 61/220\n",
      "6/6 [==============================] - 0s 10ms/step - loss: 3453.5757 - val_loss: 5637.1206\n",
      "Epoch 62/220\n",
      "6/6 [==============================] - 0s 9ms/step - loss: 3449.9688 - val_loss: 5626.8794\n",
      "Epoch 63/220\n",
      "6/6 [==============================] - 0s 9ms/step - loss: 3446.0300 - val_loss: 5618.1240\n",
      "Epoch 64/220\n",
      "6/6 [==============================] - 0s 10ms/step - loss: 3442.0974 - val_loss: 5609.3589\n",
      "Epoch 65/220\n",
      "6/6 [==============================] - 0s 9ms/step - loss: 3438.1206 - val_loss: 5598.6914\n",
      "Epoch 66/220\n",
      "6/6 [==============================] - 0s 9ms/step - loss: 3433.9443 - val_loss: 5587.3252\n",
      "Epoch 67/220\n",
      "6/6 [==============================] - 0s 9ms/step - loss: 3429.5774 - val_loss: 5576.2788\n",
      "Epoch 68/220\n",
      "6/6 [==============================] - 0s 9ms/step - loss: 3424.9983 - val_loss: 5565.8281\n",
      "Epoch 69/220\n",
      "6/6 [==============================] - 0s 10ms/step - loss: 3420.4260 - val_loss: 5554.0356\n",
      "Epoch 70/220\n",
      "6/6 [==============================] - 0s 9ms/step - loss: 3415.7629 - val_loss: 5540.8242\n",
      "Epoch 71/220\n",
      "6/6 [==============================] - 0s 9ms/step - loss: 3410.8135 - val_loss: 5527.9814\n",
      "Epoch 72/220\n",
      "6/6 [==============================] - 0s 10ms/step - loss: 3405.7366 - val_loss: 5515.6025\n",
      "Epoch 73/220\n",
      "6/6 [==============================] - 0s 9ms/step - loss: 3400.4084 - val_loss: 5504.7842\n",
      "Epoch 74/220\n",
      "6/6 [==============================] - 0s 9ms/step - loss: 3395.1465 - val_loss: 5491.9844\n",
      "Epoch 75/220\n",
      "6/6 [==============================] - 0s 10ms/step - loss: 3389.8408 - val_loss: 5476.5845\n",
      "Epoch 76/220\n",
      "6/6 [==============================] - 0s 9ms/step - loss: 3384.0581 - val_loss: 5461.5972\n",
      "Epoch 77/220\n",
      "6/6 [==============================] - 0s 10ms/step - loss: 3378.2200 - val_loss: 5446.2866\n",
      "Epoch 78/220\n",
      "6/6 [==============================] - 0s 10ms/step - loss: 3372.3843 - val_loss: 5428.9097\n",
      "Epoch 79/220\n"
     ]
    },
    {
     "name": "stdout",
     "output_type": "stream",
     "text": [
      "6/6 [==============================] - 0s 11ms/step - loss: 3366.2690 - val_loss: 5411.6875\n",
      "Epoch 80/220\n",
      "6/6 [==============================] - 0s 9ms/step - loss: 3360.0352 - val_loss: 5393.3530\n",
      "Epoch 81/220\n",
      "6/6 [==============================] - 0s 9ms/step - loss: 3353.4060 - val_loss: 5376.8003\n",
      "Epoch 82/220\n",
      "6/6 [==============================] - 0s 9ms/step - loss: 3346.8240 - val_loss: 5358.5156\n",
      "Epoch 83/220\n",
      "6/6 [==============================] - 0s 9ms/step - loss: 3340.0647 - val_loss: 5338.9648\n",
      "Epoch 84/220\n",
      "6/6 [==============================] - 0s 9ms/step - loss: 3332.9490 - val_loss: 5320.8491\n",
      "Epoch 85/220\n",
      "6/6 [==============================] - 0s 9ms/step - loss: 3325.8125 - val_loss: 5301.0356\n",
      "Epoch 86/220\n",
      "6/6 [==============================] - 0s 10ms/step - loss: 3318.5950 - val_loss: 5279.8872\n",
      "Epoch 87/220\n",
      "6/6 [==============================] - 0s 12ms/step - loss: 3310.8862 - val_loss: 5260.0640\n",
      "Epoch 88/220\n",
      "6/6 [==============================] - 0s 15ms/step - loss: 3303.1777 - val_loss: 5239.4321\n",
      "Epoch 89/220\n",
      "6/6 [==============================] - 0s 14ms/step - loss: 3295.4500 - val_loss: 5215.9995\n",
      "Epoch 90/220\n",
      "6/6 [==============================] - 0s 14ms/step - loss: 3287.4963 - val_loss: 5191.1138\n",
      "Epoch 91/220\n",
      "6/6 [==============================] - 0s 14ms/step - loss: 3278.8540 - val_loss: 5172.0200\n",
      "Epoch 92/220\n",
      "6/6 [==============================] - 0s 17ms/step - loss: 3270.5796 - val_loss: 5151.3320\n",
      "Epoch 93/220\n",
      "6/6 [==============================] - 0s 14ms/step - loss: 3262.1313 - val_loss: 5128.6079\n",
      "Epoch 94/220\n",
      "6/6 [==============================] - 0s 10ms/step - loss: 3253.2102 - val_loss: 5107.1406\n",
      "Epoch 95/220\n",
      "6/6 [==============================] - 0s 11ms/step - loss: 3244.4761 - val_loss: 5083.3916\n",
      "Epoch 96/220\n",
      "6/6 [==============================] - 0s 11ms/step - loss: 3235.0911 - val_loss: 5062.2007\n",
      "Epoch 97/220\n",
      "6/6 [==============================] - 0s 10ms/step - loss: 3225.9639 - val_loss: 5037.4697\n",
      "Epoch 98/220\n",
      "6/6 [==============================] - 0s 10ms/step - loss: 3216.3828 - val_loss: 5013.3623\n",
      "Epoch 99/220\n",
      "6/6 [==============================] - 0s 10ms/step - loss: 3206.4453 - val_loss: 4989.4556\n",
      "Epoch 100/220\n",
      "6/6 [==============================] - 0s 10ms/step - loss: 3196.5852 - val_loss: 4963.6143\n",
      "Epoch 101/220\n",
      "6/6 [==============================] - 0s 10ms/step - loss: 3186.7346 - val_loss: 4936.0796\n",
      "Epoch 102/220\n",
      "6/6 [==============================] - 0s 11ms/step - loss: 3176.0540 - val_loss: 4912.4951\n",
      "Epoch 103/220\n",
      "6/6 [==============================] - 0s 10ms/step - loss: 3165.6809 - val_loss: 4885.0205\n",
      "Epoch 104/220\n",
      "6/6 [==============================] - 0s 11ms/step - loss: 3154.9458 - val_loss: 4857.4927\n",
      "Epoch 105/220\n",
      "6/6 [==============================] - 0s 11ms/step - loss: 3143.9553 - val_loss: 4831.0854\n",
      "Epoch 106/220\n",
      "6/6 [==============================] - 0s 10ms/step - loss: 3133.2209 - val_loss: 4798.2905\n",
      "Epoch 107/220\n",
      "6/6 [==============================] - 0s 11ms/step - loss: 3121.5295 - val_loss: 4771.3359\n",
      "Epoch 108/220\n",
      "6/6 [==============================] - 0s 11ms/step - loss: 3109.9915 - val_loss: 4742.0928\n",
      "Epoch 109/220\n",
      "6/6 [==============================] - 0s 11ms/step - loss: 3098.7856 - val_loss: 4708.6885\n",
      "Epoch 110/220\n",
      "6/6 [==============================] - 0s 10ms/step - loss: 3086.2744 - val_loss: 4680.9458\n",
      "Epoch 111/220\n",
      "6/6 [==============================] - 0s 11ms/step - loss: 3074.3855 - val_loss: 4648.7173\n",
      "Epoch 112/220\n",
      "6/6 [==============================] - 0s 12ms/step - loss: 3061.9700 - val_loss: 4616.5835\n",
      "Epoch 113/220\n",
      "6/6 [==============================] - 0s 11ms/step - loss: 3049.6621 - val_loss: 4582.3149\n",
      "Epoch 114/220\n",
      "6/6 [==============================] - 0s 10ms/step - loss: 3036.2603 - val_loss: 4552.9326\n",
      "Epoch 115/220\n",
      "6/6 [==============================] - 0s 10ms/step - loss: 3023.1953 - val_loss: 4523.8896\n",
      "Epoch 116/220\n",
      "6/6 [==============================] - 0s 10ms/step - loss: 3010.4556 - val_loss: 4483.7739\n",
      "Epoch 117/220\n",
      "6/6 [==============================] - 0s 10ms/step - loss: 2997.3157 - val_loss: 4443.2852\n",
      "Epoch 118/220\n",
      "6/6 [==============================] - 0s 10ms/step - loss: 2983.1572 - val_loss: 4411.4351\n",
      "Epoch 119/220\n",
      "6/6 [==============================] - 0s 11ms/step - loss: 2969.3943 - val_loss: 4378.3013\n",
      "Epoch 120/220\n",
      "6/6 [==============================] - 0s 11ms/step - loss: 2955.3718 - val_loss: 4340.2432\n",
      "Epoch 121/220\n",
      "6/6 [==============================] - 0s 15ms/step - loss: 2940.8484 - val_loss: 4302.8472\n",
      "Epoch 122/220\n",
      "6/6 [==============================] - 0s 14ms/step - loss: 2926.9978 - val_loss: 4260.5405\n",
      "Epoch 123/220\n",
      "6/6 [==============================] - 0s 14ms/step - loss: 2911.5955 - val_loss: 4226.1362\n",
      "Epoch 124/220\n",
      "6/6 [==============================] - 0s 11ms/step - loss: 2896.6204 - val_loss: 4192.7822\n",
      "Epoch 125/220\n",
      "6/6 [==============================] - 0s 10ms/step - loss: 2881.7871 - val_loss: 4152.5142\n",
      "Epoch 126/220\n",
      "6/6 [==============================] - 0s 10ms/step - loss: 2866.1877 - val_loss: 4108.5728\n",
      "Epoch 127/220\n",
      "6/6 [==============================] - 0s 10ms/step - loss: 2850.5627 - val_loss: 4063.1724\n",
      "Epoch 128/220\n",
      "6/6 [==============================] - 0s 14ms/step - loss: 2835.2671 - val_loss: 4013.3333\n",
      "Epoch 129/220\n",
      "6/6 [==============================] - 0s 13ms/step - loss: 2818.6089 - val_loss: 3970.0032\n",
      "Epoch 130/220\n",
      "6/6 [==============================] - 0s 13ms/step - loss: 2802.1782 - val_loss: 3928.2131\n",
      "Epoch 131/220\n",
      "6/6 [==============================] - 0s 12ms/step - loss: 2785.9746 - val_loss: 3882.3474\n",
      "Epoch 132/220\n",
      "6/6 [==============================] - 0s 12ms/step - loss: 2768.9402 - val_loss: 3839.9116\n",
      "Epoch 133/220\n",
      "6/6 [==============================] - 0s 9ms/step - loss: 2751.9326 - val_loss: 3791.4355\n",
      "Epoch 134/220\n",
      "6/6 [==============================] - 0s 9ms/step - loss: 2734.4951 - val_loss: 3745.2368\n",
      "Epoch 135/220\n",
      "6/6 [==============================] - 0s 9ms/step - loss: 2717.8020 - val_loss: 3692.0022\n",
      "Epoch 136/220\n",
      "6/6 [==============================] - 0s 9ms/step - loss: 2700.0146 - val_loss: 3642.6323\n",
      "Epoch 137/220\n",
      "6/6 [==============================] - 0s 10ms/step - loss: 2682.3562 - val_loss: 3595.7695\n",
      "Epoch 138/220\n",
      "6/6 [==============================] - 0s 12ms/step - loss: 2664.7632 - val_loss: 3548.8867\n",
      "Epoch 139/220\n",
      "6/6 [==============================] - 0s 9ms/step - loss: 2646.6147 - val_loss: 3503.8020\n",
      "Epoch 140/220\n",
      "6/6 [==============================] - 0s 10ms/step - loss: 2627.9653 - val_loss: 3459.8118\n",
      "Epoch 141/220\n",
      "6/6 [==============================] - 0s 9ms/step - loss: 2609.9590 - val_loss: 3404.7866\n",
      "Epoch 142/220\n",
      "6/6 [==============================] - 0s 9ms/step - loss: 2591.7834 - val_loss: 3348.0801\n",
      "Epoch 143/220\n",
      "6/6 [==============================] - 0s 10ms/step - loss: 2573.3945 - val_loss: 3289.6707\n",
      "Epoch 144/220\n",
      "6/6 [==============================] - 0s 12ms/step - loss: 2553.3296 - val_loss: 3237.6519\n",
      "Epoch 145/220\n",
      "6/6 [==============================] - 0s 10ms/step - loss: 2533.7715 - val_loss: 3191.9751\n",
      "Epoch 146/220\n",
      "6/6 [==============================] - 0s 10ms/step - loss: 2514.1423 - val_loss: 3137.5820\n",
      "Epoch 147/220\n",
      "6/6 [==============================] - 0s 9ms/step - loss: 2494.5442 - val_loss: 3075.1106\n",
      "Epoch 148/220\n",
      "6/6 [==============================] - 0s 9ms/step - loss: 2474.8115 - val_loss: 3012.6245\n",
      "Epoch 149/220\n",
      "6/6 [==============================] - 0s 9ms/step - loss: 2453.6060 - val_loss: 2962.3767\n",
      "Epoch 150/220\n",
      "6/6 [==============================] - 0s 9ms/step - loss: 2433.4407 - val_loss: 2907.2239\n",
      "Epoch 151/220\n",
      "6/6 [==============================] - 0s 10ms/step - loss: 2413.5037 - val_loss: 2843.3782\n",
      "Epoch 152/220\n",
      "6/6 [==============================] - 0s 9ms/step - loss: 2391.7224 - val_loss: 2784.8745\n",
      "Epoch 153/220\n",
      "6/6 [==============================] - 0s 10ms/step - loss: 2370.1665 - val_loss: 2732.4104\n",
      "Epoch 154/220\n",
      "6/6 [==============================] - 0s 10ms/step - loss: 2348.1892 - val_loss: 2672.7437\n",
      "Epoch 155/220\n",
      "6/6 [==============================] - 0s 9ms/step - loss: 2327.1919 - val_loss: 2605.5957\n",
      "Epoch 156/220\n",
      "6/6 [==============================] - 0s 10ms/step - loss: 2305.2251 - val_loss: 2542.1985\n"
     ]
    },
    {
     "name": "stdout",
     "output_type": "stream",
     "text": [
      "Epoch 157/220\n",
      "6/6 [==============================] - 0s 9ms/step - loss: 2282.1484 - val_loss: 2484.6775\n",
      "Epoch 158/220\n",
      "6/6 [==============================] - 0s 10ms/step - loss: 2259.9211 - val_loss: 2421.9160\n",
      "Epoch 159/220\n",
      "6/6 [==============================] - 0s 10ms/step - loss: 2236.2480 - val_loss: 2369.5239\n",
      "Epoch 160/220\n",
      "6/6 [==============================] - 0s 10ms/step - loss: 2213.8274 - val_loss: 2302.8940\n",
      "Epoch 161/220\n",
      "6/6 [==============================] - 0s 10ms/step - loss: 2190.7124 - val_loss: 2232.4023\n",
      "Epoch 162/220\n",
      "6/6 [==============================] - 0s 9ms/step - loss: 2166.7996 - val_loss: 2166.7600\n",
      "Epoch 163/220\n",
      "6/6 [==============================] - 0s 10ms/step - loss: 2143.4695 - val_loss: 2097.1912\n",
      "Epoch 164/220\n",
      "6/6 [==============================] - 0s 11ms/step - loss: 2118.8447 - val_loss: 2032.1195\n",
      "Epoch 165/220\n",
      "6/6 [==============================] - 0s 10ms/step - loss: 2094.8196 - val_loss: 1958.9655\n",
      "Epoch 166/220\n",
      "6/6 [==============================] - 0s 12ms/step - loss: 2070.0476 - val_loss: 1898.0547\n",
      "Epoch 167/220\n",
      "6/6 [==============================] - 0s 13ms/step - loss: 2046.9203 - val_loss: 1829.3844\n",
      "Epoch 168/220\n",
      "6/6 [==============================] - 0s 14ms/step - loss: 2023.0540 - val_loss: 1757.2733\n",
      "Epoch 169/220\n",
      "6/6 [==============================] - 0s 13ms/step - loss: 1998.2047 - val_loss: 1695.8666\n",
      "Epoch 170/220\n",
      "6/6 [==============================] - 0s 13ms/step - loss: 1973.6392 - val_loss: 1631.6306\n",
      "Epoch 171/220\n",
      "6/6 [==============================] - 0s 12ms/step - loss: 1949.2698 - val_loss: 1568.5656\n",
      "Epoch 172/220\n",
      "6/6 [==============================] - 0s 13ms/step - loss: 1926.2828 - val_loss: 1496.1656\n",
      "Epoch 173/220\n",
      "6/6 [==============================] - 0s 13ms/step - loss: 1901.7004 - val_loss: 1426.1107\n",
      "Epoch 174/220\n",
      "6/6 [==============================] - 0s 15ms/step - loss: 1879.4636 - val_loss: 1361.4138\n",
      "Epoch 175/220\n",
      "6/6 [==============================] - 0s 14ms/step - loss: 1856.1866 - val_loss: 1322.2374\n",
      "Epoch 176/220\n",
      "6/6 [==============================] - 0s 13ms/step - loss: 1835.5112 - val_loss: 1292.6161\n",
      "Epoch 177/220\n",
      "6/6 [==============================] - 0s 13ms/step - loss: 1816.7451 - val_loss: 1263.1165\n",
      "Epoch 178/220\n",
      "6/6 [==============================] - 0s 13ms/step - loss: 1797.4413 - val_loss: 1237.7982\n",
      "Epoch 179/220\n",
      "6/6 [==============================] - 0s 14ms/step - loss: 1778.9291 - val_loss: 1208.0046\n",
      "Epoch 180/220\n",
      "6/6 [==============================] - 0s 13ms/step - loss: 1761.0997 - val_loss: 1174.8134\n",
      "Epoch 181/220\n",
      "6/6 [==============================] - 0s 13ms/step - loss: 1742.1829 - val_loss: 1149.0192\n",
      "Epoch 182/220\n",
      "6/6 [==============================] - 0s 14ms/step - loss: 1723.7590 - val_loss: 1125.6522\n",
      "Epoch 183/220\n",
      "6/6 [==============================] - 0s 13ms/step - loss: 1705.9331 - val_loss: 1101.6495\n",
      "Epoch 184/220\n",
      "6/6 [==============================] - 0s 14ms/step - loss: 1688.2113 - val_loss: 1076.8868\n",
      "Epoch 185/220\n",
      "6/6 [==============================] - 0s 13ms/step - loss: 1669.7084 - val_loss: 1050.8557\n",
      "Epoch 186/220\n",
      "6/6 [==============================] - 0s 14ms/step - loss: 1652.1075 - val_loss: 1024.8798\n",
      "Epoch 187/220\n",
      "6/6 [==============================] - 0s 14ms/step - loss: 1633.8826 - val_loss: 1002.6524\n",
      "Epoch 188/220\n",
      "6/6 [==============================] - 0s 13ms/step - loss: 1616.4897 - val_loss: 977.9577\n",
      "Epoch 189/220\n",
      "6/6 [==============================] - 0s 13ms/step - loss: 1599.0914 - val_loss: 950.8845\n",
      "Epoch 190/220\n",
      "6/6 [==============================] - 0s 13ms/step - loss: 1582.6140 - val_loss: 925.8964\n",
      "Epoch 191/220\n",
      "6/6 [==============================] - 0s 13ms/step - loss: 1567.1433 - val_loss: 903.0140\n",
      "Epoch 192/220\n",
      "6/6 [==============================] - 0s 14ms/step - loss: 1552.4792 - val_loss: 881.6786\n",
      "Epoch 193/220\n",
      "6/6 [==============================] - 0s 13ms/step - loss: 1537.3459 - val_loss: 869.9233\n",
      "Epoch 194/220\n",
      "6/6 [==============================] - 0s 12ms/step - loss: 1523.5808 - val_loss: 859.8321\n",
      "Epoch 195/220\n",
      "6/6 [==============================] - 0s 13ms/step - loss: 1510.3585 - val_loss: 849.8712\n",
      "Epoch 196/220\n",
      "6/6 [==============================] - 0s 13ms/step - loss: 1497.8638 - val_loss: 837.4891\n",
      "Epoch 197/220\n",
      "6/6 [==============================] - 0s 13ms/step - loss: 1484.8126 - val_loss: 825.7436\n",
      "Epoch 198/220\n",
      "6/6 [==============================] - 0s 14ms/step - loss: 1472.4072 - val_loss: 811.2975\n",
      "Epoch 199/220\n",
      "6/6 [==============================] - 0s 13ms/step - loss: 1459.7765 - val_loss: 800.1192\n",
      "Epoch 200/220\n",
      "6/6 [==============================] - 0s 13ms/step - loss: 1446.8281 - val_loss: 787.1590\n",
      "Epoch 201/220\n",
      "6/6 [==============================] - 0s 12ms/step - loss: 1434.5938 - val_loss: 774.7247\n",
      "Epoch 202/220\n",
      "6/6 [==============================] - 0s 12ms/step - loss: 1423.5291 - val_loss: 766.5885\n",
      "Epoch 203/220\n",
      "6/6 [==============================] - 0s 12ms/step - loss: 1410.6791 - val_loss: 759.5197\n",
      "Epoch 204/220\n",
      "6/6 [==============================] - 0s 12ms/step - loss: 1399.8191 - val_loss: 751.5674\n",
      "Epoch 205/220\n",
      "6/6 [==============================] - 0s 12ms/step - loss: 1387.5245 - val_loss: 744.7933\n",
      "Epoch 206/220\n",
      "6/6 [==============================] - 0s 12ms/step - loss: 1375.6213 - val_loss: 739.2214\n",
      "Epoch 207/220\n",
      "6/6 [==============================] - 0s 12ms/step - loss: 1364.8431 - val_loss: 734.1229\n",
      "Epoch 208/220\n",
      "6/6 [==============================] - 0s 12ms/step - loss: 1354.5454 - val_loss: 730.9894\n",
      "Epoch 209/220\n",
      "6/6 [==============================] - 0s 12ms/step - loss: 1345.7017 - val_loss: 726.3241\n",
      "Epoch 210/220\n",
      "6/6 [==============================] - 0s 13ms/step - loss: 1337.2159 - val_loss: 722.6200\n",
      "Epoch 211/220\n",
      "6/6 [==============================] - 0s 12ms/step - loss: 1329.9736 - val_loss: 722.0189\n",
      "Epoch 212/220\n",
      "6/6 [==============================] - 0s 9ms/step - loss: 1323.1536 - val_loss: 722.1045\n",
      "Epoch 213/220\n",
      "6/6 [==============================] - 0s 10ms/step - loss: 1317.9949 - val_loss: 724.7562\n",
      "Epoch 214/220\n",
      "6/6 [==============================] - 0s 10ms/step - loss: 1312.0774 - val_loss: 727.7518\n",
      "Epoch 215/220\n",
      "6/6 [==============================] - 0s 9ms/step - loss: 1306.1433 - val_loss: 728.1568\n",
      "Epoch 216/220\n",
      "6/6 [==============================] - 0s 9ms/step - loss: 1300.7654 - val_loss: 728.5343\n",
      "Epoch 217/220\n",
      "6/6 [==============================] - 0s 9ms/step - loss: 1295.2423 - val_loss: 727.4734\n",
      "Epoch 218/220\n",
      "6/6 [==============================] - 0s 9ms/step - loss: 1290.2917 - val_loss: 726.0961\n",
      "Epoch 219/220\n",
      "6/6 [==============================] - 0s 10ms/step - loss: 1285.3202 - val_loss: 726.0826\n",
      "Epoch 220/220\n",
      "6/6 [==============================] - 0s 11ms/step - loss: 1282.6431 - val_loss: 725.0182\n"
     ]
    }
   ],
   "source": [
    "NN_model = Sequential()\n",
    "NN_model.add(Dense(20,input_shape=(scaled_train.shape[1],)))\n",
    "NN_model.add(Dense(10))\n",
    "NN_model.add(Dense(1))\n",
    "NN_model.compile(loss='mean_absolute_error', optimizer=Adam(lr=0.001))\n",
    "NN_model.fit(scaled_train, y_train, \n",
    "             validation_data=(scaled_test,y_test), epochs=220, verbose=1)\n",
    "NN_prediction=NN_model.predict(scaled_test)"
   ]
  },
  {
   "cell_type": "markdown",
   "metadata": {},
   "source": [
    "Let's compare the MAE values."
   ]
  },
  {
   "cell_type": "code",
   "execution_count": 93,
   "metadata": {},
   "outputs": [
    {
     "name": "stdout",
     "output_type": "stream",
     "text": [
      "NN MAE =  725.0181012834821\n"
     ]
    }
   ],
   "source": [
    "print('NN MAE = ', mean_absolute_error(NN_prediction,test))"
   ]
  },
  {
   "cell_type": "markdown",
   "metadata": {},
   "source": [
    "Finally let us visualize the predictions of all 4 models. Note the autofmt_xdate method in matplotlib, it knows how to appropriately rotate the date labels on the x-axis."
   ]
  },
  {
   "cell_type": "code",
   "execution_count": 56,
   "metadata": {},
   "outputs": [
    {
     "data": {
      "text/plain": [
       "<Figure size 1440x1440 with 0 Axes>"
      ]
     },
     "metadata": {},
     "output_type": "display_data"
    },
    {
     "data": {
      "image/png": "[encoded data removed]",
      "text/plain": [
       "<Figure size 432x288 with 4 Axes>"
      ]
     },
     "metadata": {
      "needs_background": "light"
     },
     "output_type": "display_data"
    }
   ],
   "source": [
    "XGBOOST_df = pd.DataFrame({'y': XGBOOST_prediction.tolist()})\n",
    "XGBOOST_df.index = y_test.index\n",
    "\n",
    "NN_df = pd.DataFrame(NN_prediction)\n",
    "NN_df.index = y_test.index\n",
    "plt.figure(figsize=(20, 20))\n",
    "fig, axs = plt.subplots(2, 2)\n",
    "fig.suptitle('Compare SARIMAX, prophet, XGBOOST and NN')\n",
    "axs[0, 0].plot(dataset.tail(50))\n",
    "axs[0, 0].plot(sarimax_prediction.tail(50))\n",
    "axs[0, 0].set_title(\"SARIMAX\")\n",
    "axs[0, 1].plot(dataset.tail(50))\n",
    "axs[0, 1].plot(prophet_future.tail(50))\n",
    "axs[0, 1].set_title(\"Prophet\")\n",
    "axs[1, 0].plot(dataset.tail(50))\n",
    "axs[1, 0].plot(XGBOOST_df.tail(50))\n",
    "axs[1, 0].set_title(\"XGBOOST\")\n",
    "axs[1, 1].plot(dataset.tail(50))\n",
    "axs[1, 1].plot(NN_df.tail(50))\n",
    "axs[1, 1].set_title(\"NN\")\n",
    "\n",
    "for ax in fig.get_axes():\n",
    "    ax.label_outer()\n",
    "fig.autofmt_xdate()\n",
    "\n",
    "plt.savefig('Comparison',\n",
    "            bbox_inches='tight', transparent=False)"
   ]
  },
  {
   "cell_type": "markdown",
   "metadata": {},
   "source": [
    "we can see that SARIMAX and XGBOOST models have good predictions of COVID-19 Deaths."
   ]
  }
 ],
 "metadata": {
  "kernelspec": {
   "display_name": "Python 3 (ipykernel)",
   "language": "python",
   "name": "python3"
  },
  "language_info": {
   "codemirror_mode": {
    "name": "ipython",
    "version": 3
   },
   "file_extension": ".py",
   "mimetype": "text/x-python",
   "name": "python",
   "nbconvert_exporter": "python",
   "pygments_lexer": "ipython3",
   "version": "3.9.6"
  }
 },
 "nbformat": 4,
 "nbformat_minor": 4
}
