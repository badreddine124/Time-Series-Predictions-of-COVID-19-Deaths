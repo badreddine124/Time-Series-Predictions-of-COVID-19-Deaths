{
 "cells": [
  {
   "cell_type": "markdown",
   "metadata": {},
   "source": [
    "# Comparing time series predictions of COVID-19 deaths"
   ]
  },
  {
   "cell_type": "code",
   "execution_count": 1,
   "metadata": {},
   "outputs": [
    {
     "name": "stderr",
     "output_type": "stream",
     "text": [
      "\n",
      "Bad key \"text.kerning_factor\" on line 4 in\n",
      "C:\\Users\\Ishan Jain\\anaconda3\\envs\\tf\\lib\\site-packages\\matplotlib\\mpl-data\\stylelib\\_classic_test_patch.mplstyle.\n",
      "You probably need to get an updated matplotlibrc file from\n",
      "https://github.com/matplotlib/matplotlib/blob/v3.1.2/matplotlibrc.template\n",
      "or from the matplotlib source distribution\n"
     ]
    }
   ],
   "source": [
    "import pmdarima as pm\n",
    "from statsmodels.tsa.seasonal import seasonal_decompose\n",
    "from sklearn.model_selection import TimeSeriesSplit\n",
    "\n",
    "import pandas as pd\n",
    "import numpy as np\n",
    "import datetime\n",
    "import requests\n",
    "import warnings\n",
    "\n",
    "import matplotlib.pyplot as plt\n",
    "import matplotlib\n",
    "import matplotlib.dates as mdates\n",
    "\n",
    "from xgboost import XGBRegressor\n",
    "from sklearn.ensemble import RandomForestRegressor\n",
    "from sklearn.metrics import mean_squared_error, mean_absolute_error\n",
    "from sklearn.preprocessing import OrdinalEncoder\n",
    "from sklearn.svm import SVR\n",
    "from sklearn.model_selection import train_test_split\n",
    "from statsmodels.tsa.statespace.sarimax import SARIMAX\n",
    "from statsmodels.tsa.arima_model import ARIMA\n",
    "from sklearn.preprocessing import StandardScaler\n",
    "\n",
    "from fbprophet import Prophet\n",
    "from fbprophet.plot import plot_plotly, add_changepoints_to_plot\n",
    "from keras.models import Sequential\n",
    "from keras.layers import Dense\n",
    "\n",
    "from keras.optimizers import Adam\n",
    "\n",
    "warnings.filterwarnings('ignore')\n"
   ]
  },
  {
   "cell_type": "markdown",
   "metadata": {},
   "source": [
    "## Open the data and prepare the dataset data frame"
   ]
  },
  {
   "cell_type": "code",
   "execution_count": 2,
   "metadata": {},
   "outputs": [
    {
     "data": {
      "text/html": [
       "<div>\n",
       "<style scoped>\n",
       "    .dataframe tbody tr th:only-of-type {\n",
       "        vertical-align: middle;\n",
       "    }\n",
       "\n",
       "    .dataframe tbody tr th {\n",
       "        vertical-align: top;\n",
       "    }\n",
       "\n",
       "    .dataframe thead th {\n",
       "        text-align: right;\n",
       "    }\n",
       "</style>\n",
       "<table border=\"1\" class=\"dataframe\">\n",
       "  <thead>\n",
       "    <tr style=\"text-align: right;\">\n",
       "      <th></th>\n",
       "      <th>Province/State</th>\n",
       "      <th>Country/Region</th>\n",
       "      <th>Lat</th>\n",
       "      <th>Long</th>\n",
       "      <th>1/22/20</th>\n",
       "      <th>1/23/20</th>\n",
       "      <th>1/24/20</th>\n",
       "      <th>1/25/20</th>\n",
       "      <th>1/26/20</th>\n",
       "      <th>1/27/20</th>\n",
       "      <th>...</th>\n",
       "      <th>8/7/20</th>\n",
       "      <th>8/8/20</th>\n",
       "      <th>8/9/20</th>\n",
       "      <th>8/10/20</th>\n",
       "      <th>8/11/20</th>\n",
       "      <th>8/12/20</th>\n",
       "      <th>8/13/20</th>\n",
       "      <th>8/14/20</th>\n",
       "      <th>8/15/20</th>\n",
       "      <th>8/16/20</th>\n",
       "    </tr>\n",
       "  </thead>\n",
       "  <tbody>\n",
       "    <tr>\n",
       "      <th>0</th>\n",
       "      <td>NaN</td>\n",
       "      <td>Afghanistan</td>\n",
       "      <td>33.93911</td>\n",
       "      <td>67.709953</td>\n",
       "      <td>0</td>\n",
       "      <td>0</td>\n",
       "      <td>0</td>\n",
       "      <td>0</td>\n",
       "      <td>0</td>\n",
       "      <td>0</td>\n",
       "      <td>...</td>\n",
       "      <td>1307</td>\n",
       "      <td>1312</td>\n",
       "      <td>1312</td>\n",
       "      <td>1328</td>\n",
       "      <td>1344</td>\n",
       "      <td>1354</td>\n",
       "      <td>1363</td>\n",
       "      <td>1363</td>\n",
       "      <td>1370</td>\n",
       "      <td>1375</td>\n",
       "    </tr>\n",
       "    <tr>\n",
       "      <th>1</th>\n",
       "      <td>NaN</td>\n",
       "      <td>Albania</td>\n",
       "      <td>41.15330</td>\n",
       "      <td>20.168300</td>\n",
       "      <td>0</td>\n",
       "      <td>0</td>\n",
       "      <td>0</td>\n",
       "      <td>0</td>\n",
       "      <td>0</td>\n",
       "      <td>0</td>\n",
       "      <td>...</td>\n",
       "      <td>189</td>\n",
       "      <td>193</td>\n",
       "      <td>199</td>\n",
       "      <td>200</td>\n",
       "      <td>205</td>\n",
       "      <td>208</td>\n",
       "      <td>213</td>\n",
       "      <td>219</td>\n",
       "      <td>225</td>\n",
       "      <td>228</td>\n",
       "    </tr>\n",
       "    <tr>\n",
       "      <th>2</th>\n",
       "      <td>NaN</td>\n",
       "      <td>Algeria</td>\n",
       "      <td>28.03390</td>\n",
       "      <td>1.659600</td>\n",
       "      <td>0</td>\n",
       "      <td>0</td>\n",
       "      <td>0</td>\n",
       "      <td>0</td>\n",
       "      <td>0</td>\n",
       "      <td>0</td>\n",
       "      <td>...</td>\n",
       "      <td>1282</td>\n",
       "      <td>1293</td>\n",
       "      <td>1302</td>\n",
       "      <td>1312</td>\n",
       "      <td>1322</td>\n",
       "      <td>1333</td>\n",
       "      <td>1341</td>\n",
       "      <td>1351</td>\n",
       "      <td>1360</td>\n",
       "      <td>1370</td>\n",
       "    </tr>\n",
       "  </tbody>\n",
       "</table>\n",
       "<p>3 rows × 212 columns</p>\n",
       "</div>"
      ],
      "text/plain": [
       "  Province/State Country/Region       Lat       Long  1/22/20  1/23/20  \\\n",
       "0            NaN    Afghanistan  33.93911  67.709953        0        0   \n",
       "1            NaN        Albania  41.15330  20.168300        0        0   \n",
       "2            NaN        Algeria  28.03390   1.659600        0        0   \n",
       "\n",
       "   1/24/20  1/25/20  1/26/20  1/27/20  ...  8/7/20  8/8/20  8/9/20  8/10/20  \\\n",
       "0        0        0        0        0  ...    1307    1312    1312     1328   \n",
       "1        0        0        0        0  ...     189     193     199      200   \n",
       "2        0        0        0        0  ...    1282    1293    1302     1312   \n",
       "\n",
       "   8/11/20  8/12/20  8/13/20  8/14/20  8/15/20  8/16/20  \n",
       "0     1344     1354     1363     1363     1370     1375  \n",
       "1      205      208      213      219      225      228  \n",
       "2     1322     1333     1341     1351     1360     1370  \n",
       "\n",
       "[3 rows x 212 columns]"
      ]
     },
     "execution_count": 2,
     "metadata": {},
     "output_type": "execute_result"
    }
   ],
   "source": [
    "deaths_df = pd.read_csv('time_series_covid19_deaths_global.csv')\n",
    "deaths_df.head(3)"
   ]
  },
  {
   "cell_type": "code",
   "execution_count": 3,
   "metadata": {},
   "outputs": [
    {
     "data": {
      "text/plain": [
       "(266, 212)"
      ]
     },
     "execution_count": 3,
     "metadata": {},
     "output_type": "execute_result"
    }
   ],
   "source": [
    "deaths_df.shape"
   ]
  },
  {
   "cell_type": "markdown",
   "metadata": {},
   "source": [
    "First, get the data for the daily deaths in all countries in the report"
   ]
  },
  {
   "cell_type": "code",
   "execution_count": 4,
   "metadata": {},
   "outputs": [
    {
     "data": {
      "text/html": [
       "<div>\n",
       "<style scoped>\n",
       "    .dataframe tbody tr th:only-of-type {\n",
       "        vertical-align: middle;\n",
       "    }\n",
       "\n",
       "    .dataframe tbody tr th {\n",
       "        vertical-align: top;\n",
       "    }\n",
       "\n",
       "    .dataframe thead th {\n",
       "        text-align: right;\n",
       "    }\n",
       "</style>\n",
       "<table border=\"1\" class=\"dataframe\">\n",
       "  <thead>\n",
       "    <tr style=\"text-align: right;\">\n",
       "      <th></th>\n",
       "      <th>1/22/20</th>\n",
       "      <th>1/23/20</th>\n",
       "      <th>1/24/20</th>\n",
       "      <th>1/25/20</th>\n",
       "      <th>1/26/20</th>\n",
       "      <th>1/27/20</th>\n",
       "      <th>1/28/20</th>\n",
       "      <th>1/29/20</th>\n",
       "      <th>1/30/20</th>\n",
       "      <th>1/31/20</th>\n",
       "      <th>...</th>\n",
       "      <th>8/7/20</th>\n",
       "      <th>8/8/20</th>\n",
       "      <th>8/9/20</th>\n",
       "      <th>8/10/20</th>\n",
       "      <th>8/11/20</th>\n",
       "      <th>8/12/20</th>\n",
       "      <th>8/13/20</th>\n",
       "      <th>8/14/20</th>\n",
       "      <th>8/15/20</th>\n",
       "      <th>8/16/20</th>\n",
       "    </tr>\n",
       "  </thead>\n",
       "  <tbody>\n",
       "    <tr>\n",
       "      <th>0</th>\n",
       "      <td>0</td>\n",
       "      <td>0</td>\n",
       "      <td>0</td>\n",
       "      <td>0</td>\n",
       "      <td>0</td>\n",
       "      <td>0</td>\n",
       "      <td>0</td>\n",
       "      <td>0</td>\n",
       "      <td>0</td>\n",
       "      <td>0</td>\n",
       "      <td>...</td>\n",
       "      <td>1307</td>\n",
       "      <td>1312</td>\n",
       "      <td>1312</td>\n",
       "      <td>1328</td>\n",
       "      <td>1344</td>\n",
       "      <td>1354</td>\n",
       "      <td>1363</td>\n",
       "      <td>1363</td>\n",
       "      <td>1370</td>\n",
       "      <td>1375</td>\n",
       "    </tr>\n",
       "    <tr>\n",
       "      <th>1</th>\n",
       "      <td>0</td>\n",
       "      <td>0</td>\n",
       "      <td>0</td>\n",
       "      <td>0</td>\n",
       "      <td>0</td>\n",
       "      <td>0</td>\n",
       "      <td>0</td>\n",
       "      <td>0</td>\n",
       "      <td>0</td>\n",
       "      <td>0</td>\n",
       "      <td>...</td>\n",
       "      <td>189</td>\n",
       "      <td>193</td>\n",
       "      <td>199</td>\n",
       "      <td>200</td>\n",
       "      <td>205</td>\n",
       "      <td>208</td>\n",
       "      <td>213</td>\n",
       "      <td>219</td>\n",
       "      <td>225</td>\n",
       "      <td>228</td>\n",
       "    </tr>\n",
       "    <tr>\n",
       "      <th>2</th>\n",
       "      <td>0</td>\n",
       "      <td>0</td>\n",
       "      <td>0</td>\n",
       "      <td>0</td>\n",
       "      <td>0</td>\n",
       "      <td>0</td>\n",
       "      <td>0</td>\n",
       "      <td>0</td>\n",
       "      <td>0</td>\n",
       "      <td>0</td>\n",
       "      <td>...</td>\n",
       "      <td>1282</td>\n",
       "      <td>1293</td>\n",
       "      <td>1302</td>\n",
       "      <td>1312</td>\n",
       "      <td>1322</td>\n",
       "      <td>1333</td>\n",
       "      <td>1341</td>\n",
       "      <td>1351</td>\n",
       "      <td>1360</td>\n",
       "      <td>1370</td>\n",
       "    </tr>\n",
       "    <tr>\n",
       "      <th>3</th>\n",
       "      <td>0</td>\n",
       "      <td>0</td>\n",
       "      <td>0</td>\n",
       "      <td>0</td>\n",
       "      <td>0</td>\n",
       "      <td>0</td>\n",
       "      <td>0</td>\n",
       "      <td>0</td>\n",
       "      <td>0</td>\n",
       "      <td>0</td>\n",
       "      <td>...</td>\n",
       "      <td>52</td>\n",
       "      <td>52</td>\n",
       "      <td>52</td>\n",
       "      <td>52</td>\n",
       "      <td>52</td>\n",
       "      <td>53</td>\n",
       "      <td>53</td>\n",
       "      <td>53</td>\n",
       "      <td>53</td>\n",
       "      <td>53</td>\n",
       "    </tr>\n",
       "    <tr>\n",
       "      <th>4</th>\n",
       "      <td>0</td>\n",
       "      <td>0</td>\n",
       "      <td>0</td>\n",
       "      <td>0</td>\n",
       "      <td>0</td>\n",
       "      <td>0</td>\n",
       "      <td>0</td>\n",
       "      <td>0</td>\n",
       "      <td>0</td>\n",
       "      <td>0</td>\n",
       "      <td>...</td>\n",
       "      <td>67</td>\n",
       "      <td>70</td>\n",
       "      <td>75</td>\n",
       "      <td>78</td>\n",
       "      <td>80</td>\n",
       "      <td>80</td>\n",
       "      <td>80</td>\n",
       "      <td>86</td>\n",
       "      <td>86</td>\n",
       "      <td>88</td>\n",
       "    </tr>\n",
       "  </tbody>\n",
       "</table>\n",
       "<p>5 rows × 208 columns</p>\n",
       "</div>"
      ],
      "text/plain": [
       "   1/22/20  1/23/20  1/24/20  1/25/20  1/26/20  1/27/20  1/28/20  1/29/20  \\\n",
       "0        0        0        0        0        0        0        0        0   \n",
       "1        0        0        0        0        0        0        0        0   \n",
       "2        0        0        0        0        0        0        0        0   \n",
       "3        0        0        0        0        0        0        0        0   \n",
       "4        0        0        0        0        0        0        0        0   \n",
       "\n",
       "   1/30/20  1/31/20  ...  8/7/20  8/8/20  8/9/20  8/10/20  8/11/20  8/12/20  \\\n",
       "0        0        0  ...    1307    1312    1312     1328     1344     1354   \n",
       "1        0        0  ...     189     193     199      200      205      208   \n",
       "2        0        0  ...    1282    1293    1302     1312     1322     1333   \n",
       "3        0        0  ...      52      52      52       52       52       53   \n",
       "4        0        0  ...      67      70      75       78       80       80   \n",
       "\n",
       "   8/13/20  8/14/20  8/15/20  8/16/20  \n",
       "0     1363     1363     1370     1375  \n",
       "1      213      219      225      228  \n",
       "2     1341     1351     1360     1370  \n",
       "3       53       53       53       53  \n",
       "4       80       86       86       88  \n",
       "\n",
       "[5 rows x 208 columns]"
      ]
     },
     "execution_count": 4,
     "metadata": {},
     "output_type": "execute_result"
    }
   ],
   "source": [
    "d = deaths_df.loc[:, '1/22/20':]\n",
    "d.head()"
   ]
  },
  {
   "cell_type": "markdown",
   "metadata": {},
   "source": [
    "Transpose the data frame"
   ]
  },
  {
   "cell_type": "code",
   "execution_count": 5,
   "metadata": {},
   "outputs": [],
   "source": [
    "d = d.transpose()"
   ]
  },
  {
   "cell_type": "markdown",
   "metadata": {},
   "source": [
    "Then sum row-wise"
   ]
  },
  {
   "cell_type": "code",
   "execution_count": 6,
   "metadata": {},
   "outputs": [],
   "source": [
    "d = d.sum(axis=1)"
   ]
  },
  {
   "cell_type": "markdown",
   "metadata": {},
   "source": [
    "We only need the numeric values here, so we convert `d` to a list"
   ]
  },
  {
   "cell_type": "code",
   "execution_count": 7,
   "metadata": {},
   "outputs": [],
   "source": [
    "d = d.to_list()"
   ]
  },
  {
   "cell_type": "markdown",
   "metadata": {},
   "source": [
    "Create a new data frame with two columns, which will be our dataset:"
   ]
  },
  {
   "cell_type": "code",
   "execution_count": 8,
   "metadata": {},
   "outputs": [],
   "source": [
    "dataset = pd.DataFrame(columns = ['ds','y'])"
   ]
  },
  {
   "cell_type": "code",
   "execution_count": 9,
   "metadata": {},
   "outputs": [
    {
     "data": {
      "text/plain": [
       "(0, 2)"
      ]
     },
     "execution_count": 9,
     "metadata": {},
     "output_type": "execute_result"
    }
   ],
   "source": [
    "dataset.shape"
   ]
  },
  {
   "cell_type": "markdown",
   "metadata": {},
   "source": [
    "Get the dates from the columns in `deaths_df` data frame, starting from the fifth column. They will be obtained in string format."
   ]
  },
  {
   "cell_type": "code",
   "execution_count": 10,
   "metadata": {},
   "outputs": [],
   "source": [
    "dates = list(deaths_df.columns[4:])"
   ]
  },
  {
   "cell_type": "markdown",
   "metadata": {},
   "source": [
    "Convert the string dates into the datetime format, so that we can perform datetime operations on them"
   ]
  },
  {
   "cell_type": "code",
   "execution_count": 11,
   "metadata": {},
   "outputs": [],
   "source": [
    "dates = list(pd.to_datetime(dates))"
   ]
  },
  {
   "cell_type": "markdown",
   "metadata": {},
   "source": [
    "Now, assign the dates and deaths data to the columns in the new dataframe:"
   ]
  },
  {
   "cell_type": "code",
   "execution_count": 12,
   "metadata": {},
   "outputs": [],
   "source": [
    "dataset['ds'] = dates\n",
    "dataset['y'] = d "
   ]
  },
  {
   "cell_type": "markdown",
   "metadata": {},
   "source": [
    "We will need to have only 1 data column, y, with the index being ds"
   ]
  },
  {
   "cell_type": "code",
   "execution_count": 13,
   "metadata": {},
   "outputs": [],
   "source": [
    "dataset = dataset.set_index('ds')"
   ]
  },
  {
   "cell_type": "markdown",
   "metadata": {},
   "source": [
    "Let's plot the daily number of deaths\n"
   ]
  },
  {
   "cell_type": "code",
   "execution_count": 14,
   "metadata": {},
   "outputs": [
    {
     "data": {
      "image/png": "[encoded data removed]",
      "text/plain": [
       "<Figure size 720x720 with 1 Axes>"
      ]
     },
     "metadata": {
      "needs_background": "light"
     },
     "output_type": "display_data"
    }
   ],
   "source": [
    "plt.figure(figsize=(10,10))\n",
    "plt.plot(dataset)\n",
    "plt.savefig('cumulative daily deaths', bbox_inches ='tight', transparent = False)\n"
   ]
  },
  {
   "cell_type": "markdown",
   "metadata": {},
   "source": [
    "and let's see how the daily increase looks like. To do this, we will use the `diff` method from the Dataframe object."
   ]
  },
  {
   "cell_type": "code",
   "execution_count": 15,
   "metadata": {},
   "outputs": [
    {
     "data": {
      "image/png": "[encoded data removed]",
      "text/plain": [
       "<Figure size 720x720 with 1 Axes>"
      ]
     },
     "metadata": {
      "needs_background": "light"
     },
     "output_type": "display_data"
    }
   ],
   "source": [
    "plt.figure(figsize=(10,10))\n",
    "plt.plot(dataset.diff())\n",
    "plt.savefig('daily deaths', bbox_inches ='tight', transparent = False)\n"
   ]
  },
  {
   "cell_type": "markdown",
   "metadata": {},
   "source": [
    "In this project, we are going to analyze the daily reported deaths"
   ]
  },
  {
   "cell_type": "code",
   "execution_count": 16,
   "metadata": {},
   "outputs": [],
   "source": [
    "dataset = dataset.diff()"
   ]
  },
  {
   "cell_type": "markdown",
   "metadata": {},
   "source": [
    "We need to remove the first data point here, which will be a None value"
   ]
  },
  {
   "cell_type": "code",
   "execution_count": 17,
   "metadata": {},
   "outputs": [],
   "source": [
    "dataset = dataset.loc['2020-01-23':'2020-08-13']"
   ]
  },
  {
   "cell_type": "markdown",
   "metadata": {},
   "source": [
    "## Forcasting using SARIMAX, or Seasonal AutoRegressive Integrated Moving Average with eXogenous regressors model"
   ]
  },
  {
   "cell_type": "markdown",
   "metadata": {},
   "source": [
    "SARIMAX is one of the time series models in the python statistics library statsmodels."
   ]
  },
  {
   "cell_type": "markdown",
   "metadata": {},
   "source": [
    "But before we apply the model, we will split our dataset into a training and test sets. We will do this by taking all dates prior to 31st of July as training set, on which the model will be optimized, and all dates from 31st July as the test set, on which we will test the accuracy of the predictions that the optimized model will make."
   ]
  },
  {
   "cell_type": "code",
   "execution_count": 18,
   "metadata": {},
   "outputs": [],
   "source": [
    "start_date = '2020-07-31'\n",
    "\n",
    "train = dataset.loc[dataset.index < pd.to_datetime(start_date)]\n",
    "test = dataset.loc[dataset.index >= pd.to_datetime(start_date)]"
   ]
  },
  {
   "cell_type": "markdown",
   "metadata": {},
   "source": [
    "Now let's talk about SARIMAX. There are three hyperparameters that go into the order tuple: p, q and d. Here we've used p=2, q=1 and d=3."
   ]
  },
  {
   "cell_type": "code",
   "execution_count": 19,
   "metadata": {},
   "outputs": [],
   "source": [
    "model = SARIMAX(train, order=(2,1,3))"
   ]
  },
  {
   "cell_type": "markdown",
   "metadata": {},
   "source": [
    "Next, we call the fit method to optimize the model."
   ]
  },
  {
   "cell_type": "code",
   "execution_count": 20,
   "metadata": {},
   "outputs": [],
   "source": [
    "results = model.fit(disp=True)"
   ]
  },
  {
   "cell_type": "markdown",
   "metadata": {},
   "source": [
    "Now let's make predictions using the model, and compare those against the values in the test set."
   ]
  },
  {
   "cell_type": "code",
   "execution_count": 21,
   "metadata": {},
   "outputs": [
    {
     "data": {
      "image/png": "[encoded data removed]",
      "text/plain": [
       "<Figure size 720x360 with 1 Axes>"
      ]
     },
     "metadata": {
      "needs_background": "light"
     },
     "output_type": "display_data"
    }
   ],
   "source": [
    "sarimax_prediction = results.predict(start=start_date, end='2020-08-13',dynamic = False)\n",
    "\n",
    "plt.figure(figsize=(10,5))\n",
    "l1 = plt.plot(dataset,label ='Observation')\n",
    "l2 = plt.plot(sarimax_prediction,label ='SARIMAX')\n",
    "#plt.legend(handles =[l1,l2])\n",
    "plt.savefig('SARIMAX prediction', bbox_inches ='tight', transparent = False)\n"
   ]
  },
  {
   "cell_type": "markdown",
   "metadata": {},
   "source": [
    "Since that we are interested in comparing between the different time series analysis approaches, we are going to use one of the validation measures: mean absolute error."
   ]
  },
  {
   "cell_type": "code",
   "execution_count": 22,
   "metadata": {},
   "outputs": [
    {
     "name": "stdout",
     "output_type": "stream",
     "text": [
      "SARIMAX MAE =  650.6219998507061\n"
     ]
    }
   ],
   "source": [
    "print('SARIMAX MAE = ', mean_absolute_error(sarimax_prediction, test))"
   ]
  },
  {
   "cell_type": "markdown",
   "metadata": {},
   "source": [
    "However, in a typical machine learning workflow, we should find the best values of p, q and r that will minimize the error. We can use the auto_arima function in the pmdarima module to do that. This will find the optimal parameter combintation and return the best model.\n"
   ]
  },
  {
   "cell_type": "code",
   "execution_count": 23,
   "metadata": {},
   "outputs": [
    {
     "name": "stdout",
     "output_type": "stream",
     "text": [
      "Performing stepwise search to minimize aic\n",
      " ARIMA(1,1,1)(0,0,0)[0] intercept   : AIC=3111.971, Time=0.41 sec\n",
      " ARIMA(0,1,0)(0,0,0)[0] intercept   : AIC=3132.320, Time=0.04 sec\n",
      " ARIMA(1,1,0)(0,0,0)[0] intercept   : AIC=3133.730, Time=0.07 sec\n",
      " ARIMA(0,1,1)(0,0,0)[0] intercept   : AIC=3133.267, Time=0.10 sec\n",
      " ARIMA(0,1,0)(0,0,0)[0]             : AIC=3130.535, Time=0.03 sec\n",
      " ARIMA(2,1,1)(0,0,0)[0] intercept   : AIC=3099.416, Time=0.77 sec\n",
      " ARIMA(2,1,0)(0,0,0)[0] intercept   : AIC=3128.118, Time=0.11 sec\n",
      " ARIMA(3,1,1)(0,0,0)[0] intercept   : AIC=3089.597, Time=0.77 sec\n",
      " ARIMA(3,1,0)(0,0,0)[0] intercept   : AIC=3116.490, Time=0.13 sec\n",
      " ARIMA(3,1,2)(0,0,0)[0] intercept   : AIC=3043.859, Time=1.01 sec\n",
      " ARIMA(2,1,2)(0,0,0)[0] intercept   : AIC=3040.433, Time=0.97 sec\n",
      " ARIMA(1,1,2)(0,0,0)[0] intercept   : AIC=3106.310, Time=0.83 sec\n",
      " ARIMA(2,1,3)(0,0,0)[0] intercept   : AIC=3025.719, Time=1.48 sec\n",
      " ARIMA(1,1,3)(0,0,0)[0] intercept   : AIC=3105.847, Time=0.75 sec\n",
      " ARIMA(3,1,3)(0,0,0)[0] intercept   : AIC=3033.083, Time=1.17 sec\n",
      " ARIMA(2,1,3)(0,0,0)[0]             : AIC=3024.848, Time=0.86 sec\n",
      " ARIMA(1,1,3)(0,0,0)[0]             : AIC=inf, Time=0.51 sec\n",
      " ARIMA(2,1,2)(0,0,0)[0]             : AIC=inf, Time=0.58 sec\n",
      " ARIMA(3,1,3)(0,0,0)[0]             : AIC=3034.275, Time=1.01 sec\n",
      " ARIMA(1,1,2)(0,0,0)[0]             : AIC=3106.064, Time=0.30 sec\n",
      " ARIMA(3,1,2)(0,0,0)[0]             : AIC=3030.660, Time=0.70 sec\n",
      "\n",
      "Best model:  ARIMA(2,1,3)(0,0,0)[0]          \n",
      "Total fit time: 12.631 seconds\n",
      "                               SARIMAX Results                                \n",
      "==============================================================================\n",
      "Dep. Variable:                      y   No. Observations:                  190\n",
      "Model:               SARIMAX(2, 1, 3)   Log Likelihood               -1506.424\n",
      "Date:                Wed, 07 Apr 2021   AIC                           3024.848\n",
      "Time:                        19:37:03   BIC                           3044.299\n",
      "Sample:                             0   HQIC                          3032.728\n",
      "                                - 190                                         \n",
      "Covariance Type:                  opg                                         \n",
      "==============================================================================\n",
      "                 coef    std err          z      P>|z|      [0.025      0.975]\n",
      "------------------------------------------------------------------------------\n",
      "ar.L1          1.2434      0.017     72.420      0.000       1.210       1.277\n",
      "ar.L2         -0.9796      0.019    -51.207      0.000      -1.017      -0.942\n",
      "ma.L1         -1.7687      0.065    -27.195      0.000      -1.896      -1.641\n",
      "ma.L2          1.4753      0.097     15.266      0.000       1.286       1.665\n",
      "ma.L3         -0.3939      0.064     -6.141      0.000      -0.520      -0.268\n",
      "sigma2      4.964e+05   3.61e+04     13.749      0.000    4.26e+05    5.67e+05\n",
      "===================================================================================\n",
      "Ljung-Box (L1) (Q):                   0.28   Jarque-Bera (JB):                95.44\n",
      "Prob(Q):                              0.59   Prob(JB):                         0.00\n",
      "Heteroskedasticity (H):              13.70   Skew:                             0.67\n",
      "Prob(H) (two-sided):                  0.00   Kurtosis:                         6.22\n",
      "===================================================================================\n",
      "\n",
      "Warnings:\n",
      "[1] Covariance matrix calculated using the outer product of gradients (complex-step).\n"
     ]
    }
   ],
   "source": [
    "model = pm.auto_arima(train, start_p=1, start_q=1,\n",
    "                      test='adf',       # use adftest to find optimal 'd'\n",
    "                      max_p=3, max_q=3,  # maximum p and q\n",
    "                      m=1,              # frequency of series\n",
    "                      d=None,           # let model determine 'd'\n",
    "                      seasonal=False,   # No Seasonality\n",
    "                      start_P=0,\n",
    "                      D=0,\n",
    "                      trace=True,\n",
    "                      error_action='ignore',\n",
    "                      suppress_warnings=True,\n",
    "                      stepwise=True)\n",
    "\n",
    "print(model.summary())"
   ]
  },
  {
   "cell_type": "markdown",
   "metadata": {},
   "source": [
    "Note that this gives us the best mode here: \"Best model:  SARIMAX(2,2,3)(0,0,0)[0]\""
   ]
  },
  {
   "cell_type": "markdown",
   "metadata": {},
   "source": [
    "## Forcasting using Facebook's Prophet model"
   ]
  },
  {
   "cell_type": "markdown",
   "metadata": {},
   "source": [
    "This is the open source time series library released by Facebook. It is also widely used by Facebook in their own time series analysis tasks. Facebook prophet does not require that you specify or search for hyperparameters. The model can act as a black box that does all the required computations on its own. And it works with the same object-fit-predict API.\n",
    "\n",
    "Prophet expects the data frame to have 2 columns, unlike SARIMAX."
   ]
  },
  {
   "cell_type": "code",
   "execution_count": 24,
   "metadata": {},
   "outputs": [],
   "source": [
    "train['ds'] = train.index.values"
   ]
  },
  {
   "cell_type": "markdown",
   "metadata": {},
   "source": [
    "Then we create a new Prophet object and call the `fit()` method"
   ]
  },
  {
   "cell_type": "code",
   "execution_count": 25,
   "metadata": {},
   "outputs": [
    {
     "name": "stderr",
     "output_type": "stream",
     "text": [
      "INFO:fbprophet:Disabling yearly seasonality. Run prophet with yearly_seasonality=True to override this.\n",
      "INFO:fbprophet:Disabling daily seasonality. Run prophet with daily_seasonality=True to override this.\n"
     ]
    },
    {
     "data": {
      "text/plain": [
       "<fbprophet.forecaster.Prophet at 0x1f04e258e48>"
      ]
     },
     "execution_count": 25,
     "metadata": {},
     "output_type": "execute_result"
    }
   ],
   "source": [
    "m = Prophet()\n",
    "m.fit(train)"
   ]
  },
  {
   "cell_type": "markdown",
   "metadata": {},
   "source": [
    "Now let's forecast:"
   ]
  },
  {
   "cell_type": "code",
   "execution_count": 26,
   "metadata": {},
   "outputs": [],
   "source": [
    "future = m.make_future_dataframe(periods=dataset.shape[0]-train.shape[0])\n",
    "prophet_prediction = m.predict(future)"
   ]
  },
  {
   "cell_type": "code",
   "execution_count": 27,
   "metadata": {},
   "outputs": [
    {
     "data": {
      "text/html": [
       "<div>\n",
       "<style scoped>\n",
       "    .dataframe tbody tr th:only-of-type {\n",
       "        vertical-align: middle;\n",
       "    }\n",
       "\n",
       "    .dataframe tbody tr th {\n",
       "        vertical-align: top;\n",
       "    }\n",
       "\n",
       "    .dataframe thead th {\n",
       "        text-align: right;\n",
       "    }\n",
       "</style>\n",
       "<table border=\"1\" class=\"dataframe\">\n",
       "  <thead>\n",
       "    <tr style=\"text-align: right;\">\n",
       "      <th></th>\n",
       "      <th>ds</th>\n",
       "      <th>trend</th>\n",
       "      <th>yhat_lower</th>\n",
       "      <th>yhat_upper</th>\n",
       "      <th>trend_lower</th>\n",
       "      <th>trend_upper</th>\n",
       "      <th>additive_terms</th>\n",
       "      <th>additive_terms_lower</th>\n",
       "      <th>additive_terms_upper</th>\n",
       "      <th>weekly</th>\n",
       "      <th>weekly_lower</th>\n",
       "      <th>weekly_upper</th>\n",
       "      <th>multiplicative_terms</th>\n",
       "      <th>multiplicative_terms_lower</th>\n",
       "      <th>multiplicative_terms_upper</th>\n",
       "      <th>yhat</th>\n",
       "    </tr>\n",
       "  </thead>\n",
       "  <tbody>\n",
       "    <tr>\n",
       "      <th>0</th>\n",
       "      <td>2020-01-23</td>\n",
       "      <td>-1054.692611</td>\n",
       "      <td>-2252.821750</td>\n",
       "      <td>995.177824</td>\n",
       "      <td>-1054.692611</td>\n",
       "      <td>-1054.692611</td>\n",
       "      <td>486.626329</td>\n",
       "      <td>486.626329</td>\n",
       "      <td>486.626329</td>\n",
       "      <td>486.626329</td>\n",
       "      <td>486.626329</td>\n",
       "      <td>486.626329</td>\n",
       "      <td>0.0</td>\n",
       "      <td>0.0</td>\n",
       "      <td>0.0</td>\n",
       "      <td>-568.066282</td>\n",
       "    </tr>\n",
       "    <tr>\n",
       "      <th>1</th>\n",
       "      <td>2020-01-24</td>\n",
       "      <td>-988.368618</td>\n",
       "      <td>-2276.387122</td>\n",
       "      <td>994.826729</td>\n",
       "      <td>-988.368618</td>\n",
       "      <td>-988.368618</td>\n",
       "      <td>387.419362</td>\n",
       "      <td>387.419362</td>\n",
       "      <td>387.419362</td>\n",
       "      <td>387.419362</td>\n",
       "      <td>387.419362</td>\n",
       "      <td>387.419362</td>\n",
       "      <td>0.0</td>\n",
       "      <td>0.0</td>\n",
       "      <td>0.0</td>\n",
       "      <td>-600.949255</td>\n",
       "    </tr>\n",
       "    <tr>\n",
       "      <th>2</th>\n",
       "      <td>2020-01-25</td>\n",
       "      <td>-922.044624</td>\n",
       "      <td>-2750.573083</td>\n",
       "      <td>582.137895</td>\n",
       "      <td>-922.044624</td>\n",
       "      <td>-922.044624</td>\n",
       "      <td>-169.735133</td>\n",
       "      <td>-169.735133</td>\n",
       "      <td>-169.735133</td>\n",
       "      <td>-169.735133</td>\n",
       "      <td>-169.735133</td>\n",
       "      <td>-169.735133</td>\n",
       "      <td>0.0</td>\n",
       "      <td>0.0</td>\n",
       "      <td>0.0</td>\n",
       "      <td>-1091.779757</td>\n",
       "    </tr>\n",
       "    <tr>\n",
       "      <th>3</th>\n",
       "      <td>2020-01-26</td>\n",
       "      <td>-855.720630</td>\n",
       "      <td>-3367.006829</td>\n",
       "      <td>-101.960028</td>\n",
       "      <td>-855.720630</td>\n",
       "      <td>-855.720630</td>\n",
       "      <td>-915.123887</td>\n",
       "      <td>-915.123887</td>\n",
       "      <td>-915.123887</td>\n",
       "      <td>-915.123887</td>\n",
       "      <td>-915.123887</td>\n",
       "      <td>-915.123887</td>\n",
       "      <td>0.0</td>\n",
       "      <td>0.0</td>\n",
       "      <td>0.0</td>\n",
       "      <td>-1770.844518</td>\n",
       "    </tr>\n",
       "    <tr>\n",
       "      <th>4</th>\n",
       "      <td>2020-01-27</td>\n",
       "      <td>-789.396637</td>\n",
       "      <td>-3232.695391</td>\n",
       "      <td>188.594354</td>\n",
       "      <td>-789.396637</td>\n",
       "      <td>-789.396637</td>\n",
       "      <td>-734.189947</td>\n",
       "      <td>-734.189947</td>\n",
       "      <td>-734.189947</td>\n",
       "      <td>-734.189947</td>\n",
       "      <td>-734.189947</td>\n",
       "      <td>-734.189947</td>\n",
       "      <td>0.0</td>\n",
       "      <td>0.0</td>\n",
       "      <td>0.0</td>\n",
       "      <td>-1523.586583</td>\n",
       "    </tr>\n",
       "    <tr>\n",
       "      <th>...</th>\n",
       "      <td>...</td>\n",
       "      <td>...</td>\n",
       "      <td>...</td>\n",
       "      <td>...</td>\n",
       "      <td>...</td>\n",
       "      <td>...</td>\n",
       "      <td>...</td>\n",
       "      <td>...</td>\n",
       "      <td>...</td>\n",
       "      <td>...</td>\n",
       "      <td>...</td>\n",
       "      <td>...</td>\n",
       "      <td>...</td>\n",
       "      <td>...</td>\n",
       "      <td>...</td>\n",
       "      <td>...</td>\n",
       "    </tr>\n",
       "    <tr>\n",
       "      <th>199</th>\n",
       "      <td>2020-08-09</td>\n",
       "      <td>5262.061643</td>\n",
       "      <td>2645.728651</td>\n",
       "      <td>5917.909449</td>\n",
       "      <td>5239.204378</td>\n",
       "      <td>5284.833350</td>\n",
       "      <td>-915.123887</td>\n",
       "      <td>-915.123887</td>\n",
       "      <td>-915.123887</td>\n",
       "      <td>-915.123887</td>\n",
       "      <td>-915.123887</td>\n",
       "      <td>-915.123887</td>\n",
       "      <td>0.0</td>\n",
       "      <td>0.0</td>\n",
       "      <td>0.0</td>\n",
       "      <td>4346.937756</td>\n",
       "    </tr>\n",
       "    <tr>\n",
       "      <th>200</th>\n",
       "      <td>2020-08-10</td>\n",
       "      <td>5266.518199</td>\n",
       "      <td>2834.099396</td>\n",
       "      <td>6136.100105</td>\n",
       "      <td>5239.546104</td>\n",
       "      <td>5293.307121</td>\n",
       "      <td>-734.189947</td>\n",
       "      <td>-734.189947</td>\n",
       "      <td>-734.189947</td>\n",
       "      <td>-734.189947</td>\n",
       "      <td>-734.189947</td>\n",
       "      <td>-734.189947</td>\n",
       "      <td>0.0</td>\n",
       "      <td>0.0</td>\n",
       "      <td>0.0</td>\n",
       "      <td>4532.328252</td>\n",
       "    </tr>\n",
       "    <tr>\n",
       "      <th>201</th>\n",
       "      <td>2020-08-11</td>\n",
       "      <td>5270.974755</td>\n",
       "      <td>4029.199170</td>\n",
       "      <td>7437.824181</td>\n",
       "      <td>5239.632493</td>\n",
       "      <td>5301.728849</td>\n",
       "      <td>451.424520</td>\n",
       "      <td>451.424520</td>\n",
       "      <td>451.424520</td>\n",
       "      <td>451.424520</td>\n",
       "      <td>451.424520</td>\n",
       "      <td>451.424520</td>\n",
       "      <td>0.0</td>\n",
       "      <td>0.0</td>\n",
       "      <td>0.0</td>\n",
       "      <td>5722.399275</td>\n",
       "    </tr>\n",
       "    <tr>\n",
       "      <th>202</th>\n",
       "      <td>2020-08-12</td>\n",
       "      <td>5275.431311</td>\n",
       "      <td>4303.922522</td>\n",
       "      <td>7437.660357</td>\n",
       "      <td>5238.405628</td>\n",
       "      <td>5311.234033</td>\n",
       "      <td>493.578756</td>\n",
       "      <td>493.578756</td>\n",
       "      <td>493.578756</td>\n",
       "      <td>493.578756</td>\n",
       "      <td>493.578756</td>\n",
       "      <td>493.578756</td>\n",
       "      <td>0.0</td>\n",
       "      <td>0.0</td>\n",
       "      <td>0.0</td>\n",
       "      <td>5769.010066</td>\n",
       "    </tr>\n",
       "    <tr>\n",
       "      <th>203</th>\n",
       "      <td>2020-08-13</td>\n",
       "      <td>5279.887866</td>\n",
       "      <td>4194.422675</td>\n",
       "      <td>7448.509800</td>\n",
       "      <td>5238.130752</td>\n",
       "      <td>5320.803070</td>\n",
       "      <td>486.626329</td>\n",
       "      <td>486.626329</td>\n",
       "      <td>486.626329</td>\n",
       "      <td>486.626329</td>\n",
       "      <td>486.626329</td>\n",
       "      <td>486.626329</td>\n",
       "      <td>0.0</td>\n",
       "      <td>0.0</td>\n",
       "      <td>0.0</td>\n",
       "      <td>5766.514196</td>\n",
       "    </tr>\n",
       "  </tbody>\n",
       "</table>\n",
       "<p>204 rows × 16 columns</p>\n",
       "</div>"
      ],
      "text/plain": [
       "            ds        trend   yhat_lower   yhat_upper  trend_lower  \\\n",
       "0   2020-01-23 -1054.692611 -2252.821750   995.177824 -1054.692611   \n",
       "1   2020-01-24  -988.368618 -2276.387122   994.826729  -988.368618   \n",
       "2   2020-01-25  -922.044624 -2750.573083   582.137895  -922.044624   \n",
       "3   2020-01-26  -855.720630 -3367.006829  -101.960028  -855.720630   \n",
       "4   2020-01-27  -789.396637 -3232.695391   188.594354  -789.396637   \n",
       "..         ...          ...          ...          ...          ...   \n",
       "199 2020-08-09  5262.061643  2645.728651  5917.909449  5239.204378   \n",
       "200 2020-08-10  5266.518199  2834.099396  6136.100105  5239.546104   \n",
       "201 2020-08-11  5270.974755  4029.199170  7437.824181  5239.632493   \n",
       "202 2020-08-12  5275.431311  4303.922522  7437.660357  5238.405628   \n",
       "203 2020-08-13  5279.887866  4194.422675  7448.509800  5238.130752   \n",
       "\n",
       "     trend_upper  additive_terms  additive_terms_lower  additive_terms_upper  \\\n",
       "0   -1054.692611      486.626329            486.626329            486.626329   \n",
       "1    -988.368618      387.419362            387.419362            387.419362   \n",
       "2    -922.044624     -169.735133           -169.735133           -169.735133   \n",
       "3    -855.720630     -915.123887           -915.123887           -915.123887   \n",
       "4    -789.396637     -734.189947           -734.189947           -734.189947   \n",
       "..           ...             ...                   ...                   ...   \n",
       "199  5284.833350     -915.123887           -915.123887           -915.123887   \n",
       "200  5293.307121     -734.189947           -734.189947           -734.189947   \n",
       "201  5301.728849      451.424520            451.424520            451.424520   \n",
       "202  5311.234033      493.578756            493.578756            493.578756   \n",
       "203  5320.803070      486.626329            486.626329            486.626329   \n",
       "\n",
       "         weekly  weekly_lower  weekly_upper  multiplicative_terms  \\\n",
       "0    486.626329    486.626329    486.626329                   0.0   \n",
       "1    387.419362    387.419362    387.419362                   0.0   \n",
       "2   -169.735133   -169.735133   -169.735133                   0.0   \n",
       "3   -915.123887   -915.123887   -915.123887                   0.0   \n",
       "4   -734.189947   -734.189947   -734.189947                   0.0   \n",
       "..          ...           ...           ...                   ...   \n",
       "199 -915.123887   -915.123887   -915.123887                   0.0   \n",
       "200 -734.189947   -734.189947   -734.189947                   0.0   \n",
       "201  451.424520    451.424520    451.424520                   0.0   \n",
       "202  493.578756    493.578756    493.578756                   0.0   \n",
       "203  486.626329    486.626329    486.626329                   0.0   \n",
       "\n",
       "     multiplicative_terms_lower  multiplicative_terms_upper         yhat  \n",
       "0                           0.0                         0.0  -568.066282  \n",
       "1                           0.0                         0.0  -600.949255  \n",
       "2                           0.0                         0.0 -1091.779757  \n",
       "3                           0.0                         0.0 -1770.844518  \n",
       "4                           0.0                         0.0 -1523.586583  \n",
       "..                          ...                         ...          ...  \n",
       "199                         0.0                         0.0  4346.937756  \n",
       "200                         0.0                         0.0  4532.328252  \n",
       "201                         0.0                         0.0  5722.399275  \n",
       "202                         0.0                         0.0  5769.010066  \n",
       "203                         0.0                         0.0  5766.514196  \n",
       "\n",
       "[204 rows x 16 columns]"
      ]
     },
     "execution_count": 27,
     "metadata": {},
     "output_type": "execute_result"
    }
   ],
   "source": [
    "prophet_prediction"
   ]
  },
  {
   "cell_type": "markdown",
   "metadata": {},
   "source": [
    "Now let us calculate the mean absolute error for our predictions."
   ]
  },
  {
   "cell_type": "code",
   "execution_count": 28,
   "metadata": {},
   "outputs": [
    {
     "name": "stdout",
     "output_type": "stream",
     "text": [
      "Prophet MAE =  572.5617787343837\n"
     ]
    }
   ],
   "source": [
    "prophet_prediction = prophet_prediction.set_index('ds')\n",
    "prophet_future = prophet_prediction.yhat.loc[prophet_prediction.index >= start_date]\n",
    "print('Prophet MAE = ', mean_absolute_error(prophet_future,test))"
   ]
  },
  {
   "cell_type": "markdown",
   "metadata": {},
   "source": [
    "Next, let's visualize the predictions."
   ]
  },
  {
   "cell_type": "code",
   "execution_count": 30,
   "metadata": {},
   "outputs": [
    {
     "data": {
      "image/png": "[encoded data removed]",
      "text/plain": [
       "<Figure size 720x360 with 1 Axes>"
      ]
     },
     "metadata": {
      "needs_background": "light"
     },
     "output_type": "display_data"
    }
   ],
   "source": [
    "plt.figure(figsize =(10,5))\n",
    "l1 = plt.plot(dataset,label ='Observation')\n",
    "l2 = plt.plot(prophet_future, label ='Prophet')\n",
    "#plt.legend(handles=[l1,l2])\n",
    "plt.savefig('Prophet Predictions', bbox_inches ='tight', transparent = False)"
   ]
  },
  {
   "cell_type": "markdown",
   "metadata": {},
   "source": [
    "## Preparing the dataset for XGBOOST and NN"
   ]
  },
  {
   "cell_type": "markdown",
   "metadata": {},
   "source": [
    "Unlike the prophet and SAIMAX models, the two models we will train in Task 6, namely XGBOOST and NN, are supervised machine learning models that deal with independent data points, or examples. It assumes that each data point is totally independent from the rest of the data points in the dataset.\n",
    "\n",
    "Here is a method that extracts these features from a given dataframe object."
   ]
  },
  {
   "cell_type": "code",
   "execution_count": 31,
   "metadata": {},
   "outputs": [
    {
     "data": {
      "text/html": [
       "<div>\n",
       "<style scoped>\n",
       "    .dataframe tbody tr th:only-of-type {\n",
       "        vertical-align: middle;\n",
       "    }\n",
       "\n",
       "    .dataframe tbody tr th {\n",
       "        vertical-align: top;\n",
       "    }\n",
       "\n",
       "    .dataframe thead th {\n",
       "        text-align: right;\n",
       "    }\n",
       "</style>\n",
       "<table border=\"1\" class=\"dataframe\">\n",
       "  <thead>\n",
       "    <tr style=\"text-align: right;\">\n",
       "      <th></th>\n",
       "      <th>day</th>\n",
       "      <th>month</th>\n",
       "      <th>quarter</th>\n",
       "      <th>dayofweek</th>\n",
       "      <th>dayofyear</th>\n",
       "      <th>weekofyear</th>\n",
       "    </tr>\n",
       "  </thead>\n",
       "  <tbody>\n",
       "    <tr>\n",
       "      <th>0</th>\n",
       "      <td>23</td>\n",
       "      <td>1</td>\n",
       "      <td>1</td>\n",
       "      <td>3</td>\n",
       "      <td>23</td>\n",
       "      <td>4</td>\n",
       "    </tr>\n",
       "    <tr>\n",
       "      <th>1</th>\n",
       "      <td>24</td>\n",
       "      <td>1</td>\n",
       "      <td>1</td>\n",
       "      <td>4</td>\n",
       "      <td>24</td>\n",
       "      <td>4</td>\n",
       "    </tr>\n",
       "    <tr>\n",
       "      <th>2</th>\n",
       "      <td>25</td>\n",
       "      <td>1</td>\n",
       "      <td>1</td>\n",
       "      <td>5</td>\n",
       "      <td>25</td>\n",
       "      <td>4</td>\n",
       "    </tr>\n",
       "    <tr>\n",
       "      <th>3</th>\n",
       "      <td>26</td>\n",
       "      <td>1</td>\n",
       "      <td>1</td>\n",
       "      <td>6</td>\n",
       "      <td>26</td>\n",
       "      <td>4</td>\n",
       "    </tr>\n",
       "    <tr>\n",
       "      <th>4</th>\n",
       "      <td>27</td>\n",
       "      <td>1</td>\n",
       "      <td>1</td>\n",
       "      <td>0</td>\n",
       "      <td>27</td>\n",
       "      <td>5</td>\n",
       "    </tr>\n",
       "  </tbody>\n",
       "</table>\n",
       "</div>"
      ],
      "text/plain": [
       "   day  month  quarter  dayofweek  dayofyear  weekofyear\n",
       "0   23      1        1          3         23           4\n",
       "1   24      1        1          4         24           4\n",
       "2   25      1        1          5         25           4\n",
       "3   26      1        1          6         26           4\n",
       "4   27      1        1          0         27           5"
      ]
     },
     "execution_count": 31,
     "metadata": {},
     "output_type": "execute_result"
    }
   ],
   "source": [
    "def featurise(t):\n",
    "    X = pd.DataFrame()\n",
    "    \n",
    "    X['day'] = t.index.day\n",
    "    X['month'] = t.index.month\n",
    "    X['quarter'] = t.index.quarter\n",
    "    X['dayofweek'] = t.index.dayofweek\n",
    "    X['dayofyear'] = t.index.dayofyear\n",
    "    X['weekofyear'] = t.index.weekofyear\n",
    "    \n",
    "    y = t.y\n",
    "    return X, y\n",
    "\n",
    "featurise(dataset)[0].head()\n"
   ]
  },
  {
   "cell_type": "markdown",
   "metadata": {},
   "source": [
    "## Create training and test datasets by splitting the dataset, and perform data normalization."
   ]
  },
  {
   "cell_type": "markdown",
   "metadata": {},
   "source": [
    "In this task we are going to cover two topics in data preparation: splitting the dataset into training and test data, and normalizing the data.\n",
    "\n",
    "You might have already performed a splitting operation of a dataset in machine learning, where one takes a randomly selected portion of the dataset, say 20%, as a test set, while the remaining 80% is the training set. It is randomly selected because the whole dataset is randomly shufflled before the selection. Another popular approach is the k-fold cross validation.\n",
    "\n",
    "However, those two methods won't work with time series data. The reason is: when we train the model on the training set, the purpose is to predict the target values in the future, which corresponds to date values that are outside of the date values in the training set."
   ]
  },
  {
   "cell_type": "code",
   "execution_count": 33,
   "metadata": {},
   "outputs": [],
   "source": [
    "X_train, y_train = featurise(dataset.loc[dataset.index < pd.to_datetime(start_date)])\n",
    "\n",
    "X_test, y_test = featurise(dataset.loc[dataset.index >= pd.to_datetime(start_date)])\n"
   ]
  },
  {
   "cell_type": "markdown",
   "metadata": {},
   "source": [
    "Now let's discuss data normalization. We perform data normalization so as to make the range of values of the features, or the columns in the X_train table, as close as possible. For example, we have the features dayofweek and dayofyear. The range of values of dayofweek is from 1 to 7, whereas dayofyear is from 1 to 365. Having such large differences in the ranges of values will either slow down the training of the machine learning model or make it quite difficult. We solve this problem by applying normalization. There are several ways we can normalize the data with. Here I will choose the StandardScaler, which applies the following equation on each of the columns.\n",
    "\n",
    "z = (x - u) / s\n",
    "\n",
    "Here x is the column before scaling, u is thee mean and s is the standard deviation. So basically, we subtract the mean of each column from itself, then divide by the standard deviation of that column. To apply StandardScaler, we first fit the scaler object to the dataset:"
   ]
  },
  {
   "cell_type": "code",
   "execution_count": 34,
   "metadata": {},
   "outputs": [
    {
     "data": {
      "text/plain": [
       "StandardScaler()"
      ]
     },
     "execution_count": 34,
     "metadata": {},
     "output_type": "execute_result"
    }
   ],
   "source": [
    "scaler = StandardScaler()\n",
    "scaler.fit(X_train)\n"
   ]
  },
  {
   "cell_type": "markdown",
   "metadata": {},
   "source": [
    "Apply the scaling to both the training and test sets, as follows."
   ]
  },
  {
   "cell_type": "code",
   "execution_count": 35,
   "metadata": {},
   "outputs": [],
   "source": [
    "scaled_train = scaler.transform(X_train)\n",
    "scaled_test = scaler.transform(X_test)"
   ]
  },
  {
   "cell_type": "markdown",
   "metadata": {},
   "source": [
    "## Train the XGBOOST and NN models"
   ]
  },
  {
   "cell_type": "markdown",
   "metadata": {},
   "source": [
    "First, create the XGBRegressor object which will represent the XGBOOST regression model."
   ]
  },
  {
   "cell_type": "code",
   "execution_count": 42,
   "metadata": {},
   "outputs": [],
   "source": [
    "XGBOOST_model = XGBRegressor(n_estimators =7)"
   ]
  },
  {
   "cell_type": "markdown",
   "metadata": {},
   "source": [
    "Next, train the XGBOOST regression model using the fit method, and perform prediction using the predict method."
   ]
  },
  {
   "cell_type": "code",
   "execution_count": 43,
   "metadata": {},
   "outputs": [
    {
     "name": "stdout",
     "output_type": "stream",
     "text": [
      "[0]\tvalidation_0-rmse:3121.15405\tvalidation_1-rmse:4338.40674\n",
      "[1]\tvalidation_0-rmse:2264.95044\tvalidation_1-rmse:3135.70386\n",
      "[2]\tvalidation_0-rmse:1665.83826\tvalidation_1-rmse:2322.55371\n",
      "[3]\tvalidation_0-rmse:1241.47046\tvalidation_1-rmse:1676.83875\n",
      "[4]\tvalidation_0-rmse:942.85718\tvalidation_1-rmse:1199.80676\n",
      "[5]\tvalidation_0-rmse:732.31848\tvalidation_1-rmse:765.99835\n",
      "[6]\tvalidation_0-rmse:582.53577\tvalidation_1-rmse:501.29828\n"
     ]
    },
    {
     "data": {
      "text/plain": [
       "XGBRegressor(base_score=0.5, booster='gbtree', colsample_bylevel=1,\n",
       "             colsample_bynode=1, colsample_bytree=1, gamma=0, gpu_id=-1,\n",
       "             importance_type='gain', interaction_constraints='',\n",
       "             learning_rate=0.300000012, max_delta_step=0, max_depth=6,\n",
       "             min_child_weight=1, missing=nan, monotone_constraints='()',\n",
       "             n_estimators=7, n_jobs=0, num_parallel_tree=1, random_state=0,\n",
       "             reg_alpha=0, reg_lambda=1, scale_pos_weight=1, subsample=1,\n",
       "             tree_method='exact', validate_parameters=1, verbosity=None)"
      ]
     },
     "execution_count": 43,
     "metadata": {},
     "output_type": "execute_result"
    }
   ],
   "source": [
    "XGBOOST_model.fit(scaled_train, y_train,\n",
    "                 eval_set=[(scaled_train, y_train),(scaled_test, y_test)],\n",
    "                 verbose = True)"
   ]
  },
  {
   "cell_type": "code",
   "execution_count": 44,
   "metadata": {},
   "outputs": [],
   "source": [
    "XGBOOST_prediction = XGBOOST_model.predict(scaled_test)"
   ]
  },
  {
   "cell_type": "markdown",
   "metadata": {},
   "source": [
    "Let us calculate the mean absolute error for the training."
   ]
  },
  {
   "cell_type": "code",
   "execution_count": 45,
   "metadata": {},
   "outputs": [
    {
     "name": "stdout",
     "output_type": "stream",
     "text": [
      "XGBOOST MAE = 392.1467982700893\n"
     ]
    }
   ],
   "source": [
    "print('XGBOOST MAE =', mean_absolute_error(XGBOOST_prediction, y_test))"
   ]
  },
  {
   "cell_type": "markdown",
   "metadata": {},
   "source": [
    "Creation and training of the feedforward neural network model."
   ]
  },
  {
   "cell_type": "code",
   "execution_count": 54,
   "metadata": {},
   "outputs": [
    {
     "name": "stdout",
     "output_type": "stream",
     "text": [
      "Epoch 1/220\n",
      "6/6 [==============================] - 2s 103ms/step - loss: 3456.1373 - val_loss: 5793.5547\n",
      "Epoch 2/220\n",
      "6/6 [==============================] - 0s 37ms/step - loss: 3258.9053 - val_loss: 5793.5825\n",
      "Epoch 3/220\n",
      "6/6 [==============================] - 0s 20ms/step - loss: 3543.5565 - val_loss: 5793.4116\n",
      "Epoch 4/220\n",
      "6/6 [==============================] - 0s 21ms/step - loss: 3495.2934 - val_loss: 5793.3438\n",
      "Epoch 5/220\n",
      "6/6 [==============================] - 0s 26ms/step - loss: 3311.0310 - val_loss: 5793.3071\n",
      "Epoch 6/220\n",
      "6/6 [==============================] - 0s 20ms/step - loss: 3495.2226 - val_loss: 5793.1641\n",
      "Epoch 7/220\n",
      "6/6 [==============================] - 0s 20ms/step - loss: 3225.1786 - val_loss: 5793.1626\n",
      "Epoch 8/220\n",
      "6/6 [==============================] - 0s 20ms/step - loss: 3547.9154 - val_loss: 5793.0347\n",
      "Epoch 9/220\n",
      "6/6 [==============================] - 0s 18ms/step - loss: 3471.9613 - val_loss: 5792.9351\n",
      "Epoch 10/220\n",
      "6/6 [==============================] - 0s 20ms/step - loss: 3796.9370 - val_loss: 5792.7236\n",
      "Epoch 11/220\n",
      "6/6 [==============================] - 0s 20ms/step - loss: 3524.7268 - val_loss: 5792.5952\n",
      "Epoch 12/220\n",
      "6/6 [==============================] - 0s 20ms/step - loss: 3580.7167 - val_loss: 5792.4038\n",
      "Epoch 13/220\n",
      "6/6 [==============================] - 0s 20ms/step - loss: 3523.9443 - val_loss: 5792.2378\n",
      "Epoch 14/220\n",
      "6/6 [==============================] - 0s 20ms/step - loss: 3359.3518 - val_loss: 5792.1709\n",
      "Epoch 15/220\n",
      "6/6 [==============================] - 0s 20ms/step - loss: 3371.2093 - val_loss: 5792.0068\n",
      "Epoch 16/220\n",
      "6/6 [==============================] - 0s 20ms/step - loss: 3424.8703 - val_loss: 5791.8003\n",
      "Epoch 17/220\n",
      "6/6 [==============================] - 0s 20ms/step - loss: 3461.3722 - val_loss: 5791.4487\n",
      "Epoch 18/220\n",
      "6/6 [==============================] - 0s 22ms/step - loss: 3750.1273 - val_loss: 5790.9771\n",
      "Epoch 19/220\n",
      "6/6 [==============================] - 0s 21ms/step - loss: 3503.2193 - val_loss: 5790.5713\n",
      "Epoch 20/220\n",
      "6/6 [==============================] - 0s 38ms/step - loss: 3462.2983 - val_loss: 5790.0435\n",
      "Epoch 21/220\n",
      "6/6 [==============================] - 0s 20ms/step - loss: 3232.0729 - val_loss: 5789.8569\n",
      "Epoch 22/220\n",
      "6/6 [==============================] - 0s 20ms/step - loss: 3333.3099 - val_loss: 5789.2866\n",
      "Epoch 23/220\n",
      "6/6 [==============================] - 0s 20ms/step - loss: 3572.9429 - val_loss: 5788.6050\n",
      "Epoch 24/220\n",
      "6/6 [==============================] - 0s 18ms/step - loss: 3478.5256 - val_loss: 5788.1099\n",
      "Epoch 25/220\n",
      "6/6 [==============================] - 0s 20ms/step - loss: 3468.8446 - val_loss: 5787.3350\n",
      "Epoch 26/220\n",
      "6/6 [==============================] - 0s 20ms/step - loss: 3446.0544 - val_loss: 5786.7397\n",
      "Epoch 27/220\n",
      "6/6 [==============================] - 0s 22ms/step - loss: 3785.0648 - val_loss: 5785.6768\n",
      "Epoch 28/220\n",
      "6/6 [==============================] - 0s 26ms/step - loss: 3586.1328 - val_loss: 5784.6216\n",
      "Epoch 29/220\n",
      "6/6 [==============================] - 0s 21ms/step - loss: 3633.8359 - val_loss: 5783.3706\n",
      "Epoch 30/220\n",
      "6/6 [==============================] - 0s 23ms/step - loss: 3417.3315 - val_loss: 5782.4819\n",
      "Epoch 31/220\n",
      "6/6 [==============================] - 0s 25ms/step - loss: 3473.3915 - val_loss: 5780.9912\n",
      "Epoch 32/220\n",
      "6/6 [==============================] - 0s 22ms/step - loss: 3493.2762 - val_loss: 5779.4634\n",
      "Epoch 33/220\n",
      "6/6 [==============================] - 0s 21ms/step - loss: 3677.7004 - val_loss: 5777.5195\n",
      "Epoch 34/220\n",
      "6/6 [==============================] - 0s 22ms/step - loss: 3432.6002 - val_loss: 5775.5693\n",
      "Epoch 35/220\n",
      "6/6 [==============================] - 0s 21ms/step - loss: 3416.3545 - val_loss: 5773.3760\n",
      "Epoch 36/220\n",
      "6/6 [==============================] - 0s 21ms/step - loss: 3553.6148 - val_loss: 5770.9292\n",
      "Epoch 37/220\n",
      "6/6 [==============================] - 0s 20ms/step - loss: 3582.3823 - val_loss: 5768.5347\n",
      "Epoch 38/220\n",
      "6/6 [==============================] - 0s 19ms/step - loss: 3639.1719 - val_loss: 5765.7192\n",
      "Epoch 39/220\n",
      "6/6 [==============================] - 0s 21ms/step - loss: 3612.2217 - val_loss: 5763.1841\n",
      "Epoch 40/220\n",
      "6/6 [==============================] - 0s 22ms/step - loss: 3599.9455 - val_loss: 5760.3115\n",
      "Epoch 41/220\n",
      "6/6 [==============================] - 0s 21ms/step - loss: 3373.7071 - val_loss: 5756.8618\n",
      "Epoch 42/220\n",
      "6/6 [==============================] - 0s 22ms/step - loss: 3566.7769 - val_loss: 5753.4819\n",
      "Epoch 43/220\n",
      "6/6 [==============================] - 0s 21ms/step - loss: 3483.3427 - val_loss: 5749.7915\n",
      "Epoch 44/220\n",
      "6/6 [==============================] - 0s 22ms/step - loss: 3455.1250 - val_loss: 5745.8257\n",
      "Epoch 45/220\n",
      "6/6 [==============================] - 0s 21ms/step - loss: 3479.8994 - val_loss: 5741.4639\n",
      "Epoch 46/220\n",
      "6/6 [==============================] - 0s 21ms/step - loss: 3325.3967 - val_loss: 5736.6772\n",
      "Epoch 47/220\n",
      "6/6 [==============================] - 0s 22ms/step - loss: 3633.8907 - val_loss: 5731.5640\n",
      "Epoch 48/220\n",
      "6/6 [==============================] - 0s 30ms/step - loss: 3562.4892 - val_loss: 5726.9946\n",
      "Epoch 49/220\n",
      "6/6 [==============================] - 0s 30ms/step - loss: 3370.5010 - val_loss: 5722.0815\n",
      "Epoch 50/220\n",
      "6/6 [==============================] - 0s 23ms/step - loss: 3361.7967 - val_loss: 5717.5054\n",
      "Epoch 51/220\n",
      "6/6 [==============================] - 0s 33ms/step - loss: 3762.3049 - val_loss: 5711.2739\n",
      "Epoch 52/220\n",
      "6/6 [==============================] - 0s 35ms/step - loss: 3324.8119 - val_loss: 5705.9868\n",
      "Epoch 53/220\n",
      "6/6 [==============================] - 0s 47ms/step - loss: 3320.9869 - val_loss: 5699.9438\n",
      "Epoch 54/220\n",
      "6/6 [==============================] - 0s 26ms/step - loss: 3240.7915 - val_loss: 5693.8960\n",
      "Epoch 55/220\n",
      "6/6 [==============================] - 0s 34ms/step - loss: 3280.4596 - val_loss: 5687.9507\n",
      "Epoch 56/220\n",
      "6/6 [==============================] - 0s 20ms/step - loss: 3382.3011 - val_loss: 5680.9985\n",
      "Epoch 57/220\n",
      "6/6 [==============================] - 0s 22ms/step - loss: 3537.5013 - val_loss: 5673.6709\n",
      "Epoch 58/220\n",
      "6/6 [==============================] - 0s 24ms/step - loss: 3465.5939 - val_loss: 5666.1880\n",
      "Epoch 59/220\n",
      "6/6 [==============================] - 0s 21ms/step - loss: 3628.5824 - val_loss: 5658.3247\n",
      "Epoch 60/220\n",
      "6/6 [==============================] - 0s 21ms/step - loss: 3464.5287 - val_loss: 5650.3657\n",
      "Epoch 61/220\n",
      "6/6 [==============================] - 0s 22ms/step - loss: 3400.9951 - val_loss: 5642.0356\n",
      "Epoch 62/220\n",
      "6/6 [==============================] - 0s 22ms/step - loss: 3503.2987 - val_loss: 5633.2300\n",
      "Epoch 63/220\n",
      "6/6 [==============================] - 0s 21ms/step - loss: 3448.4350 - val_loss: 5623.7808\n",
      "Epoch 64/220\n",
      "6/6 [==============================] - 0s 21ms/step - loss: 3494.6199 - val_loss: 5614.5347\n",
      "Epoch 65/220\n",
      "6/6 [==============================] - 0s 21ms/step - loss: 3535.1500 - val_loss: 5604.1318\n",
      "Epoch 66/220\n",
      "6/6 [==============================] - 0s 22ms/step - loss: 3418.4576 - val_loss: 5593.3115\n",
      "Epoch 67/220\n",
      "6/6 [==============================] - 0s 22ms/step - loss: 3419.5745 - val_loss: 5582.1782\n",
      "Epoch 68/220\n",
      "6/6 [==============================] - 0s 20ms/step - loss: 3431.4378 - val_loss: 5570.9585\n",
      "Epoch 69/220\n",
      "6/6 [==============================] - 0s 22ms/step - loss: 3257.8762 - val_loss: 5560.5435\n",
      "Epoch 70/220\n",
      "6/6 [==============================] - 0s 21ms/step - loss: 3293.8594 - val_loss: 5549.7212\n",
      "Epoch 71/220\n",
      "6/6 [==============================] - 0s 21ms/step - loss: 3567.0140 - val_loss: 5537.1338\n",
      "Epoch 72/220\n",
      "6/6 [==============================] - 0s 21ms/step - loss: 3520.0473 - val_loss: 5524.7295\n",
      "Epoch 73/220\n",
      "6/6 [==============================] - 0s 22ms/step - loss: 3443.9161 - val_loss: 5510.4487\n",
      "Epoch 74/220\n",
      "6/6 [==============================] - 0s 19ms/step - loss: 3356.8695 - val_loss: 5496.7944\n",
      "Epoch 75/220\n",
      "6/6 [==============================] - 0s 21ms/step - loss: 3374.9445 - val_loss: 5482.4429\n",
      "Epoch 76/220\n",
      "6/6 [==============================] - 0s 21ms/step - loss: 3335.8078 - val_loss: 5467.2183\n",
      "Epoch 77/220\n",
      "6/6 [==============================] - 0s 19ms/step - loss: 3404.5338 - val_loss: 5451.0674\n",
      "Epoch 78/220\n",
      "6/6 [==============================] - 0s 20ms/step - loss: 3366.2603 - val_loss: 5434.2856\n",
      "Epoch 79/220\n"
     ]
    },
    {
     "name": "stdout",
     "output_type": "stream",
     "text": [
      "6/6 [==============================] - 0s 23ms/step - loss: 3259.0940 - val_loss: 5418.1846\n",
      "Epoch 80/220\n",
      "6/6 [==============================] - 0s 20ms/step - loss: 3603.2136 - val_loss: 5402.5601\n",
      "Epoch 81/220\n",
      "6/6 [==============================] - 0s 22ms/step - loss: 3502.6606 - val_loss: 5387.2622\n",
      "Epoch 82/220\n",
      "6/6 [==============================] - 0s 22ms/step - loss: 3347.7290 - val_loss: 5370.5225\n",
      "Epoch 83/220\n",
      "6/6 [==============================] - 0s 22ms/step - loss: 3508.3386 - val_loss: 5351.3584\n",
      "Epoch 84/220\n",
      "6/6 [==============================] - 0s 20ms/step - loss: 3368.8643 - val_loss: 5334.6450\n",
      "Epoch 85/220\n",
      "6/6 [==============================] - 0s 22ms/step - loss: 3352.3626 - val_loss: 5317.5513\n",
      "Epoch 86/220\n",
      "6/6 [==============================] - 0s 22ms/step - loss: 3048.1632 - val_loss: 5301.3423\n",
      "Epoch 87/220\n",
      "6/6 [==============================] - 0s 23ms/step - loss: 3379.1440 - val_loss: 5282.4419\n",
      "Epoch 88/220\n",
      "6/6 [==============================] - 0s 22ms/step - loss: 3241.9316 - val_loss: 5262.9146\n",
      "Epoch 89/220\n",
      "6/6 [==============================] - 0s 22ms/step - loss: 3096.2348 - val_loss: 5245.1060\n",
      "Epoch 90/220\n",
      "6/6 [==============================] - 0s 20ms/step - loss: 3352.0906 - val_loss: 5222.7935\n",
      "Epoch 91/220\n",
      "6/6 [==============================] - 0s 21ms/step - loss: 3246.4640 - val_loss: 5200.5288\n",
      "Epoch 92/220\n",
      "6/6 [==============================] - 0s 23ms/step - loss: 3234.1415 - val_loss: 5177.8784\n",
      "Epoch 93/220\n",
      "6/6 [==============================] - 0s 21ms/step - loss: 3259.0140 - val_loss: 5155.1978\n",
      "Epoch 94/220\n",
      "6/6 [==============================] - 0s 19ms/step - loss: 3092.2774 - val_loss: 5134.2603\n",
      "Epoch 95/220\n",
      "6/6 [==============================] - 0s 21ms/step - loss: 3198.0531 - val_loss: 5112.8872\n",
      "Epoch 96/220\n",
      "6/6 [==============================] - 0s 23ms/step - loss: 3296.6309 - val_loss: 5087.1787\n",
      "Epoch 97/220\n",
      "6/6 [==============================] - 0s 23ms/step - loss: 3266.0856 - val_loss: 5066.4258\n",
      "Epoch 98/220\n",
      "6/6 [==============================] - 0s 21ms/step - loss: 2996.1999 - val_loss: 5044.1167\n",
      "Epoch 99/220\n",
      "6/6 [==============================] - 0s 20ms/step - loss: 3189.6644 - val_loss: 5020.2280\n",
      "Epoch 100/220\n",
      "6/6 [==============================] - 0s 20ms/step - loss: 3059.1663 - val_loss: 4995.1396\n",
      "Epoch 101/220\n",
      "6/6 [==============================] - 0s 20ms/step - loss: 2974.4005 - val_loss: 4971.6396\n",
      "Epoch 102/220\n",
      "6/6 [==============================] - 0s 21ms/step - loss: 3063.6071 - val_loss: 4945.1626\n",
      "Epoch 103/220\n",
      "6/6 [==============================] - 0s 21ms/step - loss: 3252.8127 - val_loss: 4916.3940\n",
      "Epoch 104/220\n",
      "6/6 [==============================] - 0s 24ms/step - loss: 3228.5036 - val_loss: 4888.9458\n",
      "Epoch 105/220\n",
      "6/6 [==============================] - 0s 21ms/step - loss: 3154.7262 - val_loss: 4859.2490\n",
      "Epoch 106/220\n",
      "6/6 [==============================] - 0s 24ms/step - loss: 3170.1531 - val_loss: 4831.8447\n",
      "Epoch 107/220\n",
      "6/6 [==============================] - 0s 19ms/step - loss: 3193.5868 - val_loss: 4803.9995\n",
      "Epoch 108/220\n",
      "6/6 [==============================] - 0s 22ms/step - loss: 3078.4574 - val_loss: 4774.5791\n",
      "Epoch 109/220\n",
      "6/6 [==============================] - 0s 21ms/step - loss: 3155.4994 - val_loss: 4741.9521\n",
      "Epoch 110/220\n",
      "6/6 [==============================] - 0s 22ms/step - loss: 3072.8844 - val_loss: 4714.7148\n",
      "Epoch 111/220\n",
      "6/6 [==============================] - 0s 20ms/step - loss: 3002.8069 - val_loss: 4682.8838\n",
      "Epoch 112/220\n",
      "6/6 [==============================] - 0s 21ms/step - loss: 3268.6370 - val_loss: 4648.3970\n",
      "Epoch 113/220\n",
      "6/6 [==============================] - 0s 20ms/step - loss: 2924.7643 - val_loss: 4617.9346\n",
      "Epoch 114/220\n",
      "6/6 [==============================] - 0s 24ms/step - loss: 3056.8480 - val_loss: 4585.8823\n",
      "Epoch 115/220\n",
      "6/6 [==============================] - 0s 23ms/step - loss: 3180.7293 - val_loss: 4551.5024\n",
      "Epoch 116/220\n",
      "6/6 [==============================] - 0s 22ms/step - loss: 2962.6410 - val_loss: 4520.6997\n",
      "Epoch 117/220\n",
      "6/6 [==============================] - 0s 23ms/step - loss: 3148.5164 - val_loss: 4486.4058\n",
      "Epoch 118/220\n",
      "6/6 [==============================] - 0s 23ms/step - loss: 3141.4898 - val_loss: 4449.1299\n",
      "Epoch 119/220\n",
      "6/6 [==============================] - 0s 23ms/step - loss: 3044.4838 - val_loss: 4413.5430\n",
      "Epoch 120/220\n",
      "6/6 [==============================] - 0s 23ms/step - loss: 2956.0278 - val_loss: 4380.6069\n",
      "Epoch 121/220\n",
      "6/6 [==============================] - 0s 23ms/step - loss: 2877.8736 - val_loss: 4344.9653\n",
      "Epoch 122/220\n",
      "6/6 [==============================] - 0s 23ms/step - loss: 2838.5246 - val_loss: 4305.1528\n",
      "Epoch 123/220\n",
      "6/6 [==============================] - 0s 25ms/step - loss: 2991.2319 - val_loss: 4265.1221\n",
      "Epoch 124/220\n",
      "6/6 [==============================] - 0s 24ms/step - loss: 3067.6848 - val_loss: 4225.1084\n",
      "Epoch 125/220\n",
      "6/6 [==============================] - 0s 22ms/step - loss: 2966.6483 - val_loss: 4189.5864\n",
      "Epoch 126/220\n",
      "6/6 [==============================] - 0s 23ms/step - loss: 2885.3209 - val_loss: 4152.7827\n",
      "Epoch 127/220\n",
      "6/6 [==============================] - 0s 24ms/step - loss: 2785.6562 - val_loss: 4111.3428\n",
      "Epoch 128/220\n",
      "6/6 [==============================] - 0s 23ms/step - loss: 2902.6045 - val_loss: 4064.9109\n",
      "Epoch 129/220\n",
      "6/6 [==============================] - 0s 22ms/step - loss: 2958.0348 - val_loss: 4022.2527\n",
      "Epoch 130/220\n",
      "6/6 [==============================] - 0s 20ms/step - loss: 3048.7996 - val_loss: 3982.9983\n",
      "Epoch 131/220\n",
      "6/6 [==============================] - 0s 21ms/step - loss: 2837.4495 - val_loss: 3937.3230\n",
      "Epoch 132/220\n",
      "6/6 [==============================] - 0s 22ms/step - loss: 2883.7134 - val_loss: 3890.3420\n",
      "Epoch 133/220\n",
      "6/6 [==============================] - 0s 23ms/step - loss: 2719.4308 - val_loss: 3847.6287\n",
      "Epoch 134/220\n",
      "6/6 [==============================] - 0s 22ms/step - loss: 2899.0783 - val_loss: 3798.4387\n",
      "Epoch 135/220\n",
      "6/6 [==============================] - 0s 24ms/step - loss: 2681.9418 - val_loss: 3745.6067\n",
      "Epoch 136/220\n",
      "6/6 [==============================] - 0s 23ms/step - loss: 2596.1134 - val_loss: 3700.4214\n",
      "Epoch 137/220\n",
      "6/6 [==============================] - 0s 23ms/step - loss: 2705.5543 - val_loss: 3653.7292\n",
      "Epoch 138/220\n",
      "6/6 [==============================] - 0s 21ms/step - loss: 2780.7223 - val_loss: 3599.8862\n",
      "Epoch 139/220\n",
      "6/6 [==============================] - 0s 21ms/step - loss: 2480.8589 - val_loss: 3558.8926\n",
      "Epoch 140/220\n",
      "6/6 [==============================] - 0s 23ms/step - loss: 2585.3592 - val_loss: 3511.7561\n",
      "Epoch 141/220\n",
      "6/6 [==============================] - 0s 24ms/step - loss: 2595.4420 - val_loss: 3462.4836\n",
      "Epoch 142/220\n",
      "6/6 [==============================] - 0s 26ms/step - loss: 2602.8528 - val_loss: 3410.5325\n",
      "Epoch 143/220\n",
      "6/6 [==============================] - 0s 33ms/step - loss: 2665.0074 - val_loss: 3352.8247\n",
      "Epoch 144/220\n",
      "6/6 [==============================] - 0s 23ms/step - loss: 2723.8021 - val_loss: 3300.0300\n",
      "Epoch 145/220\n",
      "6/6 [==============================] - 0s 29ms/step - loss: 2518.2930 - val_loss: 3251.6902\n",
      "Epoch 146/220\n",
      "6/6 [==============================] - 0s 22ms/step - loss: 2582.3083 - val_loss: 3202.4944\n",
      "Epoch 147/220\n",
      "6/6 [==============================] - 0s 21ms/step - loss: 2556.3825 - val_loss: 3142.0591\n",
      "Epoch 148/220\n",
      "6/6 [==============================] - 0s 23ms/step - loss: 2527.2066 - val_loss: 3085.3860\n",
      "Epoch 149/220\n",
      "6/6 [==============================] - 0s 23ms/step - loss: 2366.3476 - val_loss: 3032.6697\n",
      "Epoch 150/220\n",
      "6/6 [==============================] - 0s 21ms/step - loss: 2461.0691 - val_loss: 2969.3962\n",
      "Epoch 151/220\n",
      "6/6 [==============================] - 0s 21ms/step - loss: 2485.3500 - val_loss: 2908.2947\n",
      "Epoch 152/220\n",
      "6/6 [==============================] - 0s 20ms/step - loss: 2369.2583 - val_loss: 2856.2180\n",
      "Epoch 153/220\n",
      "6/6 [==============================] - 0s 21ms/step - loss: 2430.7627 - val_loss: 2800.5627\n",
      "Epoch 154/220\n",
      "6/6 [==============================] - 0s 22ms/step - loss: 2517.0188 - val_loss: 2746.8218\n",
      "Epoch 155/220\n",
      "6/6 [==============================] - 0s 22ms/step - loss: 2397.8543 - val_loss: 2683.8318\n",
      "Epoch 156/220\n",
      "6/6 [==============================] - 0s 23ms/step - loss: 2333.3596 - val_loss: 2615.5476\n",
      "Epoch 157/220\n",
      "6/6 [==============================] - 0s 22ms/step - loss: 2228.8336 - val_loss: 2551.9050\n",
      "Epoch 158/220\n",
      "6/6 [==============================] - 0s 21ms/step - loss: 2411.1474 - val_loss: 2487.9338\n",
      "Epoch 159/220\n",
      "6/6 [==============================] - 0s 22ms/step - loss: 2324.3436 - val_loss: 2436.6304\n",
      "Epoch 160/220\n",
      "6/6 [==============================] - 0s 22ms/step - loss: 2223.1057 - val_loss: 2369.7993\n",
      "Epoch 161/220\n",
      "6/6 [==============================] - 0s 24ms/step - loss: 2133.3348 - val_loss: 2306.8657\n",
      "Epoch 162/220\n",
      "6/6 [==============================] - 0s 26ms/step - loss: 2215.2315 - val_loss: 2233.9292\n",
      "Epoch 163/220\n",
      "6/6 [==============================] - 0s 23ms/step - loss: 2160.3156 - val_loss: 2162.1953\n",
      "Epoch 164/220\n",
      "6/6 [==============================] - 0s 27ms/step - loss: 2257.5107 - val_loss: 2098.8330\n",
      "Epoch 165/220\n",
      "6/6 [==============================] - 0s 45ms/step - loss: 2136.4199 - val_loss: 2035.2795\n",
      "Epoch 166/220\n",
      "6/6 [==============================] - 0s 45ms/step - loss: 2290.5631 - val_loss: 1975.0916\n",
      "Epoch 167/220\n",
      "6/6 [==============================] - 0s 40ms/step - loss: 2074.7373 - val_loss: 1910.2004\n",
      "Epoch 168/220\n",
      "6/6 [==============================] - 0s 47ms/step - loss: 2024.2381 - val_loss: 1835.5781\n",
      "Epoch 169/220\n",
      "6/6 [==============================] - 0s 44ms/step - loss: 1917.0320 - val_loss: 1763.6514\n",
      "Epoch 170/220\n",
      "6/6 [==============================] - 0s 43ms/step - loss: 2019.7668 - val_loss: 1703.0284\n",
      "Epoch 171/220\n",
      "6/6 [==============================] - 0s 45ms/step - loss: 1975.5347 - val_loss: 1631.0469\n",
      "Epoch 172/220\n",
      "6/6 [==============================] - 0s 41ms/step - loss: 2032.2177 - val_loss: 1574.2249\n",
      "Epoch 173/220\n",
      "6/6 [==============================] - 0s 48ms/step - loss: 1932.6837 - val_loss: 1506.5836\n",
      "Epoch 174/220\n",
      "6/6 [==============================] - 0s 44ms/step - loss: 2026.6783 - val_loss: 1442.5879\n",
      "Epoch 175/220\n",
      "6/6 [==============================] - 0s 44ms/step - loss: 1797.9708 - val_loss: 1376.0027\n",
      "Epoch 176/220\n",
      "6/6 [==============================] - 0s 51ms/step - loss: 1906.1014 - val_loss: 1325.5764\n",
      "Epoch 177/220\n",
      "6/6 [==============================] - 0s 43ms/step - loss: 1686.9173 - val_loss: 1299.6119\n",
      "Epoch 178/220\n",
      "6/6 [==============================] - 0s 41ms/step - loss: 1766.6575 - val_loss: 1273.8646\n",
      "Epoch 179/220\n",
      "6/6 [==============================] - 0s 44ms/step - loss: 1759.6772 - val_loss: 1245.9050\n",
      "Epoch 180/220\n",
      "6/6 [==============================] - 0s 38ms/step - loss: 1683.9837 - val_loss: 1216.2338\n",
      "Epoch 181/220\n",
      "6/6 [==============================] - 0s 45ms/step - loss: 1767.9159 - val_loss: 1187.2648\n",
      "Epoch 182/220\n",
      "6/6 [==============================] - 0s 41ms/step - loss: 1722.6041 - val_loss: 1161.1990\n",
      "Epoch 183/220\n",
      "6/6 [==============================] - 0s 42ms/step - loss: 1756.5535 - val_loss: 1126.0371\n",
      "Epoch 184/220\n",
      "6/6 [==============================] - 0s 43ms/step - loss: 1764.5234 - val_loss: 1104.1315\n",
      "Epoch 185/220\n",
      "6/6 [==============================] - 0s 39ms/step - loss: 1710.8913 - val_loss: 1081.8313\n",
      "Epoch 186/220\n",
      "6/6 [==============================] - 0s 46ms/step - loss: 1538.1671 - val_loss: 1056.4714\n",
      "Epoch 187/220\n",
      "6/6 [==============================] - 0s 42ms/step - loss: 1576.6796 - val_loss: 1031.4231\n",
      "Epoch 188/220\n",
      "6/6 [==============================] - 0s 40ms/step - loss: 1588.3998 - val_loss: 1003.0526\n",
      "Epoch 189/220\n",
      "6/6 [==============================] - 0s 41ms/step - loss: 1552.7151 - val_loss: 972.6866\n",
      "Epoch 190/220\n",
      "6/6 [==============================] - 0s 38ms/step - loss: 1567.5714 - val_loss: 949.1661\n",
      "Epoch 191/220\n",
      "6/6 [==============================] - 0s 40ms/step - loss: 1678.7160 - val_loss: 927.0328\n",
      "Epoch 192/220\n",
      "6/6 [==============================] - 0s 35ms/step - loss: 1531.1556 - val_loss: 907.1722\n",
      "Epoch 193/220\n",
      "6/6 [==============================] - 0s 23ms/step - loss: 1540.1791 - val_loss: 887.9798\n",
      "Epoch 194/220\n",
      "6/6 [==============================] - 0s 20ms/step - loss: 1342.8714 - val_loss: 873.4003\n",
      "Epoch 195/220\n",
      "6/6 [==============================] - 0s 20ms/step - loss: 1461.4220 - val_loss: 859.6898\n",
      "Epoch 196/220\n",
      "6/6 [==============================] - 0s 38ms/step - loss: 1487.9967 - val_loss: 848.8483\n",
      "Epoch 197/220\n",
      "6/6 [==============================] - 0s 32ms/step - loss: 1417.8264 - val_loss: 840.5406\n",
      "Epoch 198/220\n",
      "6/6 [==============================] - 0s 34ms/step - loss: 1481.5185 - val_loss: 829.3439\n",
      "Epoch 199/220\n",
      "6/6 [==============================] - 0s 27ms/step - loss: 1525.3081 - val_loss: 817.0482\n",
      "Epoch 200/220\n",
      "6/6 [==============================] - 0s 19ms/step - loss: 1441.9414 - val_loss: 802.2698\n",
      "Epoch 201/220\n",
      "6/6 [==============================] - 0s 27ms/step - loss: 1448.0716 - val_loss: 786.6033\n",
      "Epoch 202/220\n",
      "6/6 [==============================] - 0s 27ms/step - loss: 1434.2755 - val_loss: 777.8085\n",
      "Epoch 203/220\n",
      "6/6 [==============================] - 0s 22ms/step - loss: 1455.6353 - val_loss: 770.4832\n",
      "Epoch 204/220\n",
      "6/6 [==============================] - 0s 21ms/step - loss: 1508.7850 - val_loss: 763.3734\n",
      "Epoch 205/220\n",
      "6/6 [==============================] - 0s 20ms/step - loss: 1321.9602 - val_loss: 757.2944\n",
      "Epoch 206/220\n",
      "6/6 [==============================] - 0s 20ms/step - loss: 1363.4067 - val_loss: 750.1929\n",
      "Epoch 207/220\n",
      "6/6 [==============================] - 0s 20ms/step - loss: 1293.0697 - val_loss: 741.7285\n",
      "Epoch 208/220\n",
      "6/6 [==============================] - 0s 21ms/step - loss: 1302.8109 - val_loss: 736.7440\n",
      "Epoch 209/220\n",
      "6/6 [==============================] - 0s 21ms/step - loss: 1285.1551 - val_loss: 734.6014\n",
      "Epoch 210/220\n",
      "6/6 [==============================] - 0s 22ms/step - loss: 1364.7198 - val_loss: 731.8094\n",
      "Epoch 211/220\n",
      "6/6 [==============================] - 0s 22ms/step - loss: 1400.2476 - val_loss: 728.4571\n",
      "Epoch 212/220\n",
      "6/6 [==============================] - 0s 20ms/step - loss: 1397.0294 - val_loss: 722.9927\n",
      "Epoch 213/220\n",
      "6/6 [==============================] - 0s 21ms/step - loss: 1257.3797 - val_loss: 722.1752\n",
      "Epoch 214/220\n",
      "6/6 [==============================] - 0s 19ms/step - loss: 1318.1042 - val_loss: 723.1342\n",
      "Epoch 215/220\n",
      "6/6 [==============================] - 0s 21ms/step - loss: 1313.1090 - val_loss: 724.7429\n",
      "Epoch 216/220\n",
      "6/6 [==============================] - 0s 20ms/step - loss: 1379.1873 - val_loss: 726.2445\n",
      "Epoch 217/220\n",
      "6/6 [==============================] - 0s 20ms/step - loss: 1313.7839 - val_loss: 726.6115\n",
      "Epoch 218/220\n",
      "6/6 [==============================] - 0s 21ms/step - loss: 1418.4808 - val_loss: 724.7222\n",
      "Epoch 219/220\n",
      "6/6 [==============================] - 0s 21ms/step - loss: 1305.0841 - val_loss: 725.6616\n",
      "Epoch 220/220\n",
      "6/6 [==============================] - 0s 20ms/step - loss: 1317.2843 - val_loss: 727.1465\n"
     ]
    }
   ],
   "source": [
    "NN_model = Sequential()\n",
    "NN_model.add(Dense(20,input_shape=(scaled_train.shape[1],)))\n",
    "NN_model.add(Dense(10))\n",
    "NN_model.add(Dense(1))\n",
    "NN_model.compile(loss='mean_absolute_error', optimizer=Adam(lr=0.001))\n",
    "NN_model.fit(scaled_train, y_train, \n",
    "             validation_data=(scaled_test,y_test), epochs=220, verbose=1)\n",
    "NN_prediction=NN_model.predict(scaled_test)"
   ]
  },
  {
   "cell_type": "markdown",
   "metadata": {},
   "source": [
    "Let's compare the MAE values."
   ]
  },
  {
   "cell_type": "code",
   "execution_count": 55,
   "metadata": {},
   "outputs": [
    {
     "name": "stdout",
     "output_type": "stream",
     "text": [
      "NN MAE =  727.1465192522321\n"
     ]
    }
   ],
   "source": [
    "print('NN MAE = ', mean_absolute_error(NN_prediction,test))"
   ]
  },
  {
   "cell_type": "markdown",
   "metadata": {},
   "source": [
    "Finally let us visualize the predictions of all 4 models. Note the autofmt_xdate method in matplotlib, it knows how to appropriately rotate the date labels on the x-axis."
   ]
  },
  {
   "cell_type": "code",
   "execution_count": 56,
   "metadata": {},
   "outputs": [
    {
     "data": {
      "text/plain": [
       "<Figure size 1440x1440 with 0 Axes>"
      ]
     },
     "metadata": {},
     "output_type": "display_data"
    },
    {
     "data": {
      "image/png": "[encoded data removed]",
      "text/plain": [
       "<Figure size 432x288 with 4 Axes>"
      ]
     },
     "metadata": {
      "needs_background": "light"
     },
     "output_type": "display_data"
    }
   ],
   "source": [
    "XGBOOST_df = pd.DataFrame({'y': XGBOOST_prediction.tolist()})\n",
    "XGBOOST_df.index = y_test.index\n",
    "\n",
    "NN_df = pd.DataFrame(NN_prediction)\n",
    "NN_df.index = y_test.index\n",
    "plt.figure(figsize=(20, 20))\n",
    "fig, axs = plt.subplots(2, 2)\n",
    "fig.suptitle('Compare SARIMAX, prophet, XGBOOST and NN')\n",
    "axs[0, 0].plot(dataset.tail(50))\n",
    "axs[0, 0].plot(sarimax_prediction.tail(50))\n",
    "axs[0, 0].set_title(\"SARIMAX\")\n",
    "axs[0, 1].plot(dataset.tail(50))\n",
    "axs[0, 1].plot(prophet_future.tail(50))\n",
    "axs[0, 1].set_title(\"Prophet\")\n",
    "axs[1, 0].plot(dataset.tail(50))\n",
    "axs[1, 0].plot(XGBOOST_df.tail(50))\n",
    "axs[1, 0].set_title(\"XGBOOST\")\n",
    "axs[1, 1].plot(dataset.tail(50))\n",
    "axs[1, 1].plot(NN_df.tail(50))\n",
    "axs[1, 1].set_title(\"NN\")\n",
    "\n",
    "for ax in fig.get_axes():\n",
    "    ax.label_outer()\n",
    "fig.autofmt_xdate()\n",
    "\n",
    "plt.savefig('Comparison',\n",
    "            bbox_inches='tight', transparent=False)"
   ]
  }
 ],
 "metadata": {
  "kernelspec": {
   "display_name": "Python 3",
   "language": "python",
   "name": "python3"
  },
  "language_info": {
   "codemirror_mode": {
    "name": "ipython",
    "version": 3
   },
   "file_extension": ".py",
   "mimetype": "text/x-python",
   "name": "python",
   "nbconvert_exporter": "python",
   "pygments_lexer": "ipython3",
   "version": "3.7.10"
  }
 },
 "nbformat": 4,
 "nbformat_minor": 4
}
